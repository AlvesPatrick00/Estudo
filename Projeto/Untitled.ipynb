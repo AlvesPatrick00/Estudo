{
 "cells": [
  {
   "cell_type": "code",
   "execution_count": 1,
   "metadata": {},
   "outputs": [
    {
     "data": {
      "text/html": [
       "        <script type=\"text/javascript\">\n",
       "        window.PlotlyConfig = {MathJaxConfig: 'local'};\n",
       "        if (window.MathJax) {MathJax.Hub.Config({SVG: {font: \"STIX-Web\"}});}\n",
       "        if (typeof require !== 'undefined') {\n",
       "        require.undef(\"plotly\");\n",
       "        requirejs.config({\n",
       "            paths: {\n",
       "                'plotly': ['https://cdn.plot.ly/plotly-2.1.0.min']\n",
       "            }\n",
       "        });\n",
       "        require(['plotly'], function(Plotly) {\n",
       "            window._Plotly = Plotly;\n",
       "        });\n",
       "        }\n",
       "        </script>\n",
       "        "
      ]
     },
     "metadata": {},
     "output_type": "display_data"
    }
   ],
   "source": [
    "import numpy as np \n",
    "import pandas as pd\n",
    "\n",
    "import matplotlib.pyplot as plt\n",
    "import seaborn as sns\n",
    "plt.style.use('fivethirtyeight')\n",
    "\n",
    "import plotly.offline as py\n",
    "from plotly.offline import init_notebook_mode, iplot\n",
    "import plotly.graph_objs as go\n",
    "init_notebook_mode(connected = True)\n",
    "from bubbly.bubbly import bubbleplot\n",
    "\n"
   ]
  },
  {
   "cell_type": "code",
   "execution_count": 2,
   "metadata": {
    "scrolled": true
   },
   "outputs": [
    {
     "data": {
      "text/html": [
       "<div>\n",
       "<style scoped>\n",
       "    .dataframe tbody tr th:only-of-type {\n",
       "        vertical-align: middle;\n",
       "    }\n",
       "\n",
       "    .dataframe tbody tr th {\n",
       "        vertical-align: top;\n",
       "    }\n",
       "\n",
       "    .dataframe thead th {\n",
       "        text-align: right;\n",
       "    }\n",
       "</style>\n",
       "<table border=\"1\" class=\"dataframe\">\n",
       "  <thead>\n",
       "    <tr style=\"text-align: right;\">\n",
       "      <th></th>\n",
       "      <th>Country name</th>\n",
       "      <th>Regional indicator</th>\n",
       "      <th>Ladder score</th>\n",
       "      <th>Standard error of ladder score</th>\n",
       "      <th>upperwhisker</th>\n",
       "      <th>lowerwhisker</th>\n",
       "      <th>Logged GDP per capita</th>\n",
       "      <th>Social support</th>\n",
       "      <th>Healthy life expectancy</th>\n",
       "      <th>Freedom to make life choices</th>\n",
       "      <th>Generosity</th>\n",
       "      <th>Perceptions of corruption</th>\n",
       "      <th>Ladder score in Dystopia</th>\n",
       "      <th>Explained by: Log GDP per capita</th>\n",
       "      <th>Explained by: Social support</th>\n",
       "      <th>Explained by: Healthy life expectancy</th>\n",
       "      <th>Explained by: Freedom to make life choices</th>\n",
       "      <th>Explained by: Generosity</th>\n",
       "      <th>Explained by: Perceptions of corruption</th>\n",
       "      <th>Dystopia + residual</th>\n",
       "    </tr>\n",
       "  </thead>\n",
       "  <tbody>\n",
       "    <tr>\n",
       "      <th>0</th>\n",
       "      <td>Finland</td>\n",
       "      <td>Western Europe</td>\n",
       "      <td>7.842</td>\n",
       "      <td>0.032</td>\n",
       "      <td>7.904</td>\n",
       "      <td>7.780</td>\n",
       "      <td>10.775</td>\n",
       "      <td>0.954</td>\n",
       "      <td>72.000</td>\n",
       "      <td>0.949</td>\n",
       "      <td>-0.098</td>\n",
       "      <td>0.186</td>\n",
       "      <td>2.43</td>\n",
       "      <td>1.446</td>\n",
       "      <td>1.106</td>\n",
       "      <td>0.741</td>\n",
       "      <td>0.691</td>\n",
       "      <td>0.124</td>\n",
       "      <td>0.481</td>\n",
       "      <td>3.253</td>\n",
       "    </tr>\n",
       "    <tr>\n",
       "      <th>1</th>\n",
       "      <td>Denmark</td>\n",
       "      <td>Western Europe</td>\n",
       "      <td>7.620</td>\n",
       "      <td>0.035</td>\n",
       "      <td>7.687</td>\n",
       "      <td>7.552</td>\n",
       "      <td>10.933</td>\n",
       "      <td>0.954</td>\n",
       "      <td>72.700</td>\n",
       "      <td>0.946</td>\n",
       "      <td>0.030</td>\n",
       "      <td>0.179</td>\n",
       "      <td>2.43</td>\n",
       "      <td>1.502</td>\n",
       "      <td>1.108</td>\n",
       "      <td>0.763</td>\n",
       "      <td>0.686</td>\n",
       "      <td>0.208</td>\n",
       "      <td>0.485</td>\n",
       "      <td>2.868</td>\n",
       "    </tr>\n",
       "    <tr>\n",
       "      <th>2</th>\n",
       "      <td>Switzerland</td>\n",
       "      <td>Western Europe</td>\n",
       "      <td>7.571</td>\n",
       "      <td>0.036</td>\n",
       "      <td>7.643</td>\n",
       "      <td>7.500</td>\n",
       "      <td>11.117</td>\n",
       "      <td>0.942</td>\n",
       "      <td>74.400</td>\n",
       "      <td>0.919</td>\n",
       "      <td>0.025</td>\n",
       "      <td>0.292</td>\n",
       "      <td>2.43</td>\n",
       "      <td>1.566</td>\n",
       "      <td>1.079</td>\n",
       "      <td>0.816</td>\n",
       "      <td>0.653</td>\n",
       "      <td>0.204</td>\n",
       "      <td>0.413</td>\n",
       "      <td>2.839</td>\n",
       "    </tr>\n",
       "    <tr>\n",
       "      <th>3</th>\n",
       "      <td>Iceland</td>\n",
       "      <td>Western Europe</td>\n",
       "      <td>7.554</td>\n",
       "      <td>0.059</td>\n",
       "      <td>7.670</td>\n",
       "      <td>7.438</td>\n",
       "      <td>10.878</td>\n",
       "      <td>0.983</td>\n",
       "      <td>73.000</td>\n",
       "      <td>0.955</td>\n",
       "      <td>0.160</td>\n",
       "      <td>0.673</td>\n",
       "      <td>2.43</td>\n",
       "      <td>1.482</td>\n",
       "      <td>1.172</td>\n",
       "      <td>0.772</td>\n",
       "      <td>0.698</td>\n",
       "      <td>0.293</td>\n",
       "      <td>0.170</td>\n",
       "      <td>2.967</td>\n",
       "    </tr>\n",
       "    <tr>\n",
       "      <th>4</th>\n",
       "      <td>Netherlands</td>\n",
       "      <td>Western Europe</td>\n",
       "      <td>7.464</td>\n",
       "      <td>0.027</td>\n",
       "      <td>7.518</td>\n",
       "      <td>7.410</td>\n",
       "      <td>10.932</td>\n",
       "      <td>0.942</td>\n",
       "      <td>72.400</td>\n",
       "      <td>0.913</td>\n",
       "      <td>0.175</td>\n",
       "      <td>0.338</td>\n",
       "      <td>2.43</td>\n",
       "      <td>1.501</td>\n",
       "      <td>1.079</td>\n",
       "      <td>0.753</td>\n",
       "      <td>0.647</td>\n",
       "      <td>0.302</td>\n",
       "      <td>0.384</td>\n",
       "      <td>2.798</td>\n",
       "    </tr>\n",
       "    <tr>\n",
       "      <th>...</th>\n",
       "      <td>...</td>\n",
       "      <td>...</td>\n",
       "      <td>...</td>\n",
       "      <td>...</td>\n",
       "      <td>...</td>\n",
       "      <td>...</td>\n",
       "      <td>...</td>\n",
       "      <td>...</td>\n",
       "      <td>...</td>\n",
       "      <td>...</td>\n",
       "      <td>...</td>\n",
       "      <td>...</td>\n",
       "      <td>...</td>\n",
       "      <td>...</td>\n",
       "      <td>...</td>\n",
       "      <td>...</td>\n",
       "      <td>...</td>\n",
       "      <td>...</td>\n",
       "      <td>...</td>\n",
       "      <td>...</td>\n",
       "    </tr>\n",
       "    <tr>\n",
       "      <th>144</th>\n",
       "      <td>Lesotho</td>\n",
       "      <td>Sub-Saharan Africa</td>\n",
       "      <td>3.512</td>\n",
       "      <td>0.120</td>\n",
       "      <td>3.748</td>\n",
       "      <td>3.276</td>\n",
       "      <td>7.926</td>\n",
       "      <td>0.787</td>\n",
       "      <td>48.700</td>\n",
       "      <td>0.715</td>\n",
       "      <td>-0.131</td>\n",
       "      <td>0.915</td>\n",
       "      <td>2.43</td>\n",
       "      <td>0.451</td>\n",
       "      <td>0.731</td>\n",
       "      <td>0.007</td>\n",
       "      <td>0.405</td>\n",
       "      <td>0.103</td>\n",
       "      <td>0.015</td>\n",
       "      <td>1.800</td>\n",
       "    </tr>\n",
       "    <tr>\n",
       "      <th>145</th>\n",
       "      <td>Botswana</td>\n",
       "      <td>Sub-Saharan Africa</td>\n",
       "      <td>3.467</td>\n",
       "      <td>0.074</td>\n",
       "      <td>3.611</td>\n",
       "      <td>3.322</td>\n",
       "      <td>9.782</td>\n",
       "      <td>0.784</td>\n",
       "      <td>59.269</td>\n",
       "      <td>0.824</td>\n",
       "      <td>-0.246</td>\n",
       "      <td>0.801</td>\n",
       "      <td>2.43</td>\n",
       "      <td>1.099</td>\n",
       "      <td>0.724</td>\n",
       "      <td>0.340</td>\n",
       "      <td>0.539</td>\n",
       "      <td>0.027</td>\n",
       "      <td>0.088</td>\n",
       "      <td>0.648</td>\n",
       "    </tr>\n",
       "    <tr>\n",
       "      <th>146</th>\n",
       "      <td>Rwanda</td>\n",
       "      <td>Sub-Saharan Africa</td>\n",
       "      <td>3.415</td>\n",
       "      <td>0.068</td>\n",
       "      <td>3.548</td>\n",
       "      <td>3.282</td>\n",
       "      <td>7.676</td>\n",
       "      <td>0.552</td>\n",
       "      <td>61.400</td>\n",
       "      <td>0.897</td>\n",
       "      <td>0.061</td>\n",
       "      <td>0.167</td>\n",
       "      <td>2.43</td>\n",
       "      <td>0.364</td>\n",
       "      <td>0.202</td>\n",
       "      <td>0.407</td>\n",
       "      <td>0.627</td>\n",
       "      <td>0.227</td>\n",
       "      <td>0.493</td>\n",
       "      <td>1.095</td>\n",
       "    </tr>\n",
       "    <tr>\n",
       "      <th>147</th>\n",
       "      <td>Zimbabwe</td>\n",
       "      <td>Sub-Saharan Africa</td>\n",
       "      <td>3.145</td>\n",
       "      <td>0.058</td>\n",
       "      <td>3.259</td>\n",
       "      <td>3.030</td>\n",
       "      <td>7.943</td>\n",
       "      <td>0.750</td>\n",
       "      <td>56.201</td>\n",
       "      <td>0.677</td>\n",
       "      <td>-0.047</td>\n",
       "      <td>0.821</td>\n",
       "      <td>2.43</td>\n",
       "      <td>0.457</td>\n",
       "      <td>0.649</td>\n",
       "      <td>0.243</td>\n",
       "      <td>0.359</td>\n",
       "      <td>0.157</td>\n",
       "      <td>0.075</td>\n",
       "      <td>1.205</td>\n",
       "    </tr>\n",
       "    <tr>\n",
       "      <th>148</th>\n",
       "      <td>Afghanistan</td>\n",
       "      <td>South Asia</td>\n",
       "      <td>2.523</td>\n",
       "      <td>0.038</td>\n",
       "      <td>2.596</td>\n",
       "      <td>2.449</td>\n",
       "      <td>7.695</td>\n",
       "      <td>0.463</td>\n",
       "      <td>52.493</td>\n",
       "      <td>0.382</td>\n",
       "      <td>-0.102</td>\n",
       "      <td>0.924</td>\n",
       "      <td>2.43</td>\n",
       "      <td>0.370</td>\n",
       "      <td>0.000</td>\n",
       "      <td>0.126</td>\n",
       "      <td>0.000</td>\n",
       "      <td>0.122</td>\n",
       "      <td>0.010</td>\n",
       "      <td>1.895</td>\n",
       "    </tr>\n",
       "  </tbody>\n",
       "</table>\n",
       "<p>149 rows × 20 columns</p>\n",
       "</div>"
      ],
      "text/plain": [
       "    Country name  Regional indicator  Ladder score  \\\n",
       "0        Finland      Western Europe         7.842   \n",
       "1        Denmark      Western Europe         7.620   \n",
       "2    Switzerland      Western Europe         7.571   \n",
       "3        Iceland      Western Europe         7.554   \n",
       "4    Netherlands      Western Europe         7.464   \n",
       "..           ...                 ...           ...   \n",
       "144      Lesotho  Sub-Saharan Africa         3.512   \n",
       "145     Botswana  Sub-Saharan Africa         3.467   \n",
       "146       Rwanda  Sub-Saharan Africa         3.415   \n",
       "147     Zimbabwe  Sub-Saharan Africa         3.145   \n",
       "148  Afghanistan          South Asia         2.523   \n",
       "\n",
       "     Standard error of ladder score  upperwhisker  lowerwhisker  \\\n",
       "0                             0.032         7.904         7.780   \n",
       "1                             0.035         7.687         7.552   \n",
       "2                             0.036         7.643         7.500   \n",
       "3                             0.059         7.670         7.438   \n",
       "4                             0.027         7.518         7.410   \n",
       "..                              ...           ...           ...   \n",
       "144                           0.120         3.748         3.276   \n",
       "145                           0.074         3.611         3.322   \n",
       "146                           0.068         3.548         3.282   \n",
       "147                           0.058         3.259         3.030   \n",
       "148                           0.038         2.596         2.449   \n",
       "\n",
       "     Logged GDP per capita  Social support  Healthy life expectancy  \\\n",
       "0                   10.775           0.954                   72.000   \n",
       "1                   10.933           0.954                   72.700   \n",
       "2                   11.117           0.942                   74.400   \n",
       "3                   10.878           0.983                   73.000   \n",
       "4                   10.932           0.942                   72.400   \n",
       "..                     ...             ...                      ...   \n",
       "144                  7.926           0.787                   48.700   \n",
       "145                  9.782           0.784                   59.269   \n",
       "146                  7.676           0.552                   61.400   \n",
       "147                  7.943           0.750                   56.201   \n",
       "148                  7.695           0.463                   52.493   \n",
       "\n",
       "     Freedom to make life choices  Generosity  Perceptions of corruption  \\\n",
       "0                           0.949      -0.098                      0.186   \n",
       "1                           0.946       0.030                      0.179   \n",
       "2                           0.919       0.025                      0.292   \n",
       "3                           0.955       0.160                      0.673   \n",
       "4                           0.913       0.175                      0.338   \n",
       "..                            ...         ...                        ...   \n",
       "144                         0.715      -0.131                      0.915   \n",
       "145                         0.824      -0.246                      0.801   \n",
       "146                         0.897       0.061                      0.167   \n",
       "147                         0.677      -0.047                      0.821   \n",
       "148                         0.382      -0.102                      0.924   \n",
       "\n",
       "     Ladder score in Dystopia  Explained by: Log GDP per capita  \\\n",
       "0                        2.43                             1.446   \n",
       "1                        2.43                             1.502   \n",
       "2                        2.43                             1.566   \n",
       "3                        2.43                             1.482   \n",
       "4                        2.43                             1.501   \n",
       "..                        ...                               ...   \n",
       "144                      2.43                             0.451   \n",
       "145                      2.43                             1.099   \n",
       "146                      2.43                             0.364   \n",
       "147                      2.43                             0.457   \n",
       "148                      2.43                             0.370   \n",
       "\n",
       "     Explained by: Social support  Explained by: Healthy life expectancy  \\\n",
       "0                           1.106                                  0.741   \n",
       "1                           1.108                                  0.763   \n",
       "2                           1.079                                  0.816   \n",
       "3                           1.172                                  0.772   \n",
       "4                           1.079                                  0.753   \n",
       "..                            ...                                    ...   \n",
       "144                         0.731                                  0.007   \n",
       "145                         0.724                                  0.340   \n",
       "146                         0.202                                  0.407   \n",
       "147                         0.649                                  0.243   \n",
       "148                         0.000                                  0.126   \n",
       "\n",
       "     Explained by: Freedom to make life choices  Explained by: Generosity  \\\n",
       "0                                         0.691                     0.124   \n",
       "1                                         0.686                     0.208   \n",
       "2                                         0.653                     0.204   \n",
       "3                                         0.698                     0.293   \n",
       "4                                         0.647                     0.302   \n",
       "..                                          ...                       ...   \n",
       "144                                       0.405                     0.103   \n",
       "145                                       0.539                     0.027   \n",
       "146                                       0.627                     0.227   \n",
       "147                                       0.359                     0.157   \n",
       "148                                       0.000                     0.122   \n",
       "\n",
       "     Explained by: Perceptions of corruption  Dystopia + residual  \n",
       "0                                      0.481                3.253  \n",
       "1                                      0.485                2.868  \n",
       "2                                      0.413                2.839  \n",
       "3                                      0.170                2.967  \n",
       "4                                      0.384                2.798  \n",
       "..                                       ...                  ...  \n",
       "144                                    0.015                1.800  \n",
       "145                                    0.088                0.648  \n",
       "146                                    0.493                1.095  \n",
       "147                                    0.075                1.205  \n",
       "148                                    0.010                1.895  \n",
       "\n",
       "[149 rows x 20 columns]"
      ]
     },
     "metadata": {},
     "output_type": "display_data"
    }
   ],
   "source": [
    "data = pd.read_csv(\"world-happiness-report-2021.csv\")\n",
    "display(data)\n",
    "\n"
   ]
  },
  {
   "cell_type": "code",
   "execution_count": 3,
   "metadata": {},
   "outputs": [
    {
     "data": {
      "text/html": [
       "<div>\n",
       "<style scoped>\n",
       "    .dataframe tbody tr th:only-of-type {\n",
       "        vertical-align: middle;\n",
       "    }\n",
       "\n",
       "    .dataframe tbody tr th {\n",
       "        vertical-align: top;\n",
       "    }\n",
       "\n",
       "    .dataframe thead th {\n",
       "        text-align: right;\n",
       "    }\n",
       "</style>\n",
       "<table border=\"1\" class=\"dataframe\">\n",
       "  <thead>\n",
       "    <tr style=\"text-align: right;\">\n",
       "      <th></th>\n",
       "      <th>Country name</th>\n",
       "      <th>year</th>\n",
       "      <th>Life Ladder</th>\n",
       "      <th>Log GDP per capita</th>\n",
       "      <th>Social support</th>\n",
       "      <th>Healthy life expectancy at birth</th>\n",
       "      <th>Freedom to make life choices</th>\n",
       "      <th>Generosity</th>\n",
       "      <th>Perceptions of corruption</th>\n",
       "      <th>Positive affect</th>\n",
       "      <th>Negative affect</th>\n",
       "    </tr>\n",
       "  </thead>\n",
       "  <tbody>\n",
       "    <tr>\n",
       "      <th>0</th>\n",
       "      <td>Afghanistan</td>\n",
       "      <td>2008</td>\n",
       "      <td>3.724</td>\n",
       "      <td>7.370</td>\n",
       "      <td>0.451</td>\n",
       "      <td>50.80</td>\n",
       "      <td>0.718</td>\n",
       "      <td>0.168</td>\n",
       "      <td>0.882</td>\n",
       "      <td>0.518</td>\n",
       "      <td>0.258</td>\n",
       "    </tr>\n",
       "    <tr>\n",
       "      <th>1</th>\n",
       "      <td>Afghanistan</td>\n",
       "      <td>2009</td>\n",
       "      <td>4.402</td>\n",
       "      <td>7.540</td>\n",
       "      <td>0.552</td>\n",
       "      <td>51.20</td>\n",
       "      <td>0.679</td>\n",
       "      <td>0.190</td>\n",
       "      <td>0.850</td>\n",
       "      <td>0.584</td>\n",
       "      <td>0.237</td>\n",
       "    </tr>\n",
       "    <tr>\n",
       "      <th>2</th>\n",
       "      <td>Afghanistan</td>\n",
       "      <td>2010</td>\n",
       "      <td>4.758</td>\n",
       "      <td>7.647</td>\n",
       "      <td>0.539</td>\n",
       "      <td>51.60</td>\n",
       "      <td>0.600</td>\n",
       "      <td>0.121</td>\n",
       "      <td>0.707</td>\n",
       "      <td>0.618</td>\n",
       "      <td>0.275</td>\n",
       "    </tr>\n",
       "    <tr>\n",
       "      <th>3</th>\n",
       "      <td>Afghanistan</td>\n",
       "      <td>2011</td>\n",
       "      <td>3.832</td>\n",
       "      <td>7.620</td>\n",
       "      <td>0.521</td>\n",
       "      <td>51.92</td>\n",
       "      <td>0.496</td>\n",
       "      <td>0.162</td>\n",
       "      <td>0.731</td>\n",
       "      <td>0.611</td>\n",
       "      <td>0.267</td>\n",
       "    </tr>\n",
       "    <tr>\n",
       "      <th>4</th>\n",
       "      <td>Afghanistan</td>\n",
       "      <td>2012</td>\n",
       "      <td>3.783</td>\n",
       "      <td>7.705</td>\n",
       "      <td>0.521</td>\n",
       "      <td>52.24</td>\n",
       "      <td>0.531</td>\n",
       "      <td>0.236</td>\n",
       "      <td>0.776</td>\n",
       "      <td>0.710</td>\n",
       "      <td>0.268</td>\n",
       "    </tr>\n",
       "    <tr>\n",
       "      <th>...</th>\n",
       "      <td>...</td>\n",
       "      <td>...</td>\n",
       "      <td>...</td>\n",
       "      <td>...</td>\n",
       "      <td>...</td>\n",
       "      <td>...</td>\n",
       "      <td>...</td>\n",
       "      <td>...</td>\n",
       "      <td>...</td>\n",
       "      <td>...</td>\n",
       "      <td>...</td>\n",
       "    </tr>\n",
       "    <tr>\n",
       "      <th>1944</th>\n",
       "      <td>Zimbabwe</td>\n",
       "      <td>2016</td>\n",
       "      <td>3.735</td>\n",
       "      <td>7.984</td>\n",
       "      <td>0.768</td>\n",
       "      <td>54.40</td>\n",
       "      <td>0.733</td>\n",
       "      <td>-0.095</td>\n",
       "      <td>0.724</td>\n",
       "      <td>0.738</td>\n",
       "      <td>0.209</td>\n",
       "    </tr>\n",
       "    <tr>\n",
       "      <th>1945</th>\n",
       "      <td>Zimbabwe</td>\n",
       "      <td>2017</td>\n",
       "      <td>3.638</td>\n",
       "      <td>8.016</td>\n",
       "      <td>0.754</td>\n",
       "      <td>55.00</td>\n",
       "      <td>0.753</td>\n",
       "      <td>-0.098</td>\n",
       "      <td>0.751</td>\n",
       "      <td>0.806</td>\n",
       "      <td>0.224</td>\n",
       "    </tr>\n",
       "    <tr>\n",
       "      <th>1946</th>\n",
       "      <td>Zimbabwe</td>\n",
       "      <td>2018</td>\n",
       "      <td>3.616</td>\n",
       "      <td>8.049</td>\n",
       "      <td>0.775</td>\n",
       "      <td>55.60</td>\n",
       "      <td>0.763</td>\n",
       "      <td>-0.068</td>\n",
       "      <td>0.844</td>\n",
       "      <td>0.710</td>\n",
       "      <td>0.212</td>\n",
       "    </tr>\n",
       "    <tr>\n",
       "      <th>1947</th>\n",
       "      <td>Zimbabwe</td>\n",
       "      <td>2019</td>\n",
       "      <td>2.694</td>\n",
       "      <td>7.950</td>\n",
       "      <td>0.759</td>\n",
       "      <td>56.20</td>\n",
       "      <td>0.632</td>\n",
       "      <td>-0.064</td>\n",
       "      <td>0.831</td>\n",
       "      <td>0.716</td>\n",
       "      <td>0.235</td>\n",
       "    </tr>\n",
       "    <tr>\n",
       "      <th>1948</th>\n",
       "      <td>Zimbabwe</td>\n",
       "      <td>2020</td>\n",
       "      <td>3.160</td>\n",
       "      <td>7.829</td>\n",
       "      <td>0.717</td>\n",
       "      <td>56.80</td>\n",
       "      <td>0.643</td>\n",
       "      <td>-0.009</td>\n",
       "      <td>0.789</td>\n",
       "      <td>0.703</td>\n",
       "      <td>0.346</td>\n",
       "    </tr>\n",
       "  </tbody>\n",
       "</table>\n",
       "<p>1949 rows × 11 columns</p>\n",
       "</div>"
      ],
      "text/plain": [
       "     Country name  year  Life Ladder  Log GDP per capita  Social support  \\\n",
       "0     Afghanistan  2008        3.724               7.370           0.451   \n",
       "1     Afghanistan  2009        4.402               7.540           0.552   \n",
       "2     Afghanistan  2010        4.758               7.647           0.539   \n",
       "3     Afghanistan  2011        3.832               7.620           0.521   \n",
       "4     Afghanistan  2012        3.783               7.705           0.521   \n",
       "...           ...   ...          ...                 ...             ...   \n",
       "1944     Zimbabwe  2016        3.735               7.984           0.768   \n",
       "1945     Zimbabwe  2017        3.638               8.016           0.754   \n",
       "1946     Zimbabwe  2018        3.616               8.049           0.775   \n",
       "1947     Zimbabwe  2019        2.694               7.950           0.759   \n",
       "1948     Zimbabwe  2020        3.160               7.829           0.717   \n",
       "\n",
       "      Healthy life expectancy at birth  Freedom to make life choices  \\\n",
       "0                                50.80                         0.718   \n",
       "1                                51.20                         0.679   \n",
       "2                                51.60                         0.600   \n",
       "3                                51.92                         0.496   \n",
       "4                                52.24                         0.531   \n",
       "...                                ...                           ...   \n",
       "1944                             54.40                         0.733   \n",
       "1945                             55.00                         0.753   \n",
       "1946                             55.60                         0.763   \n",
       "1947                             56.20                         0.632   \n",
       "1948                             56.80                         0.643   \n",
       "\n",
       "      Generosity  Perceptions of corruption  Positive affect  Negative affect  \n",
       "0          0.168                      0.882            0.518            0.258  \n",
       "1          0.190                      0.850            0.584            0.237  \n",
       "2          0.121                      0.707            0.618            0.275  \n",
       "3          0.162                      0.731            0.611            0.267  \n",
       "4          0.236                      0.776            0.710            0.268  \n",
       "...          ...                        ...              ...              ...  \n",
       "1944      -0.095                      0.724            0.738            0.209  \n",
       "1945      -0.098                      0.751            0.806            0.224  \n",
       "1946      -0.068                      0.844            0.710            0.212  \n",
       "1947      -0.064                      0.831            0.716            0.235  \n",
       "1948      -0.009                      0.789            0.703            0.346  \n",
       "\n",
       "[1949 rows x 11 columns]"
      ]
     },
     "metadata": {},
     "output_type": "display_data"
    }
   ],
   "source": [
    "data2 = pd.read_csv(\"world-happiness-report.csv\")\n",
    "display(data2)"
   ]
  },
  {
   "cell_type": "code",
   "execution_count": 7,
   "metadata": {
    "scrolled": false
   },
   "outputs": [
    {
     "data": {
      "text/plain": [
       "<matplotlib.axes._subplots.AxesSubplot at 0x1ad79d41340>"
      ]
     },
     "execution_count": 7,
     "metadata": {},
     "output_type": "execute_result"
    },
    {
     "data": {
      "image/png": "[encoded data removed]",
      "text/plain": [
       "<Figure size 432x288 with 2 Axes>"
      ]
     },
     "metadata": {},
     "output_type": "display_data"
    }
   ],
   "source": [
    "flt = data.drop(['Standard error of ladder score', 'upperwhisker', 'lowerwhisker', 'Ladder score in Dystopia', 'Explained by: Log GDP per capita', 'Explained by: Social support', 'Explained by: Healthy life expectancy', 'Explained by: Freedom to make life choices', 'Explained by: Generosity', 'Explained by: Perceptions of corruption', 'Dystopia + residual'], axis = 1)\n",
    "\n",
    "sns.heatmap(flt.corr(), cmap = \"rocket_r\", annot = True)"
   ]
  },
  {
   "cell_type": "code",
   "execution_count": 8,
   "metadata": {
    "scrolled": false
   },
   "outputs": [
    {
     "data": {
      "application/vnd.plotly.v1+json": {
       "config": {
        "linkText": "Export to plot.ly",
        "plotlyServerURL": "https://plot.ly",
        "scrollzoom": true,
        "showLink": false
       },
       "data": [
        {
         "marker": {
          "size": [
           10.775,
           10.933,
           11.117,
           10.878,
           10.932,
           11.052999999999999,
           10.867,
           11.647,
           10.905999999999999,
           10.873,
           11.342,
           10.707,
           10.823,
           10.704,
           10.674000000000001,
           10.571,
           10.623,
           10.575999999999999,
           10.421,
           10.279000000000002,
           10.575999999999999
          ],
          "sizemode": "area",
          "sizeref": 0.0036396875
         },
         "mode": "markers",
         "name": "Western Europe",
         "text": [
          "Finland",
          "Denmark",
          "Switzerland",
          "Iceland",
          "Netherlands",
          "Norway",
          "Sweden",
          "Luxembourg",
          "Austria",
          "Germany",
          "Ireland",
          "United Kingdom",
          "Belgium",
          "France",
          "Malta",
          "Spain",
          "Italy",
          "Cyprus",
          "Portugal",
          "Greece",
          "North Cyprus"
         ],
         "type": "scatter",
         "x": [
          7.8420000000000005,
          7.62,
          7.571000000000001,
          7.553999999999999,
          7.4639999999999995,
          7.392,
          7.3629999999999995,
          7.324,
          7.268,
          7.155,
          7.085,
          7.064,
          6.834,
          6.69,
          6.602,
          6.4910000000000005,
          6.483,
          6.223,
          5.928999999999999,
          5.723,
          5.5360000000000005
         ],
         "y": [
          0.9540000000000001,
          0.9540000000000001,
          0.9420000000000001,
          0.983,
          0.9420000000000001,
          0.9540000000000001,
          0.934,
          0.9079999999999999,
          0.934,
          0.903,
          0.9470000000000001,
          0.934,
          0.9059999999999999,
          0.9420000000000001,
          0.9309999999999999,
          0.932,
          0.88,
          0.802,
          0.879,
          0.823,
          0.82
         ]
        },
        {
         "marker": {
          "size": [
           10.642999999999999,
           10.796,
           10.776,
           11.023
          ],
          "sizemode": "area",
          "sizeref": 0.0036396875
         },
         "mode": "markers",
         "name": "North America and ANZ",
         "text": [
          "New Zealand",
          "Australia",
          "Canada",
          "United States"
         ],
         "type": "scatter",
         "x": [
          7.277,
          7.183,
          7.103,
          6.9510000000000005
         ],
         "y": [
          0.948,
          0.94,
          0.9259999999999999,
          0.92
         ]
        },
        {
         "marker": {
          "size": [
           10.575,
           10.669,
           11.085,
           10.743,
           10.817,
           9.622,
           10.24,
           8.902999999999999,
           9.342,
           9.24,
           9.584,
           9.266,
           9.626,
           8.485,
           9.182,
           9.367,
           7.577999999999999
          ],
          "sizemode": "area",
          "sizeref": 0.0036396875
         },
         "mode": "markers",
         "name": "Middle East and North Africa",
         "text": [
          "Israel",
          "Bahrain",
          "United Arab Emirates",
          "Saudi Arabia",
          "Kuwait",
          "Libya",
          "Turkey",
          "Morocco",
          "Algeria",
          "Iraq",
          "Iran",
          "Tunisia",
          "Lebanon",
          "Palestinian Territories",
          "Jordan",
          "Egypt",
          "Yemen"
         ],
         "type": "scatter",
         "x": [
          7.157,
          6.647,
          6.561,
          6.494,
          6.106,
          5.41,
          4.948,
          4.918,
          4.887,
          4.854,
          4.721,
          4.596,
          4.584,
          4.5169999999999995,
          4.395,
          4.283,
          3.658
         ],
         "y": [
          0.9390000000000001,
          0.862,
          0.8440000000000001,
          0.8909999999999999,
          0.843,
          0.8270000000000001,
          0.8220000000000001,
          0.56,
          0.802,
          0.746,
          0.71,
          0.691,
          0.848,
          0.826,
          0.767,
          0.75,
          0.8320000000000001
         ]
        },
        {
         "marker": {
          "size": [
           9.88,
           9.052999999999999,
           9.966000000000001,
           9.577,
           9.859,
           9.186,
           10.35,
           10.071,
           9.054,
           9.557,
           8.62,
           9.962,
           8.648,
           9.458,
           9.312999999999999,
           9.046,
           9.448,
           9.802,
           9.073,
           7.477
          ],
          "sizemode": "area",
          "sizeref": 0.0036396875
         },
         "mode": "markers",
         "name": "Latin America and Caribbean",
         "text": [
          "Costa Rica",
          "Guatemala",
          "Uruguay",
          "Brazil",
          "Mexico",
          "Jamaica",
          "Panama",
          "Chile",
          "El Salvador",
          "Colombia",
          "Nicaragua",
          "Argentina",
          "Honduras",
          "Peru",
          "Ecuador",
          "Bolivia",
          "Paraguay",
          "Dominican Republic",
          "Venezuela",
          "Haiti"
         ],
         "type": "scatter",
         "x": [
          7.069,
          6.435,
          6.431,
          6.33,
          6.317,
          6.309,
          6.18,
          6.172000000000001,
          6.061,
          6.0120000000000005,
          5.972,
          5.928999999999999,
          5.919,
          5.84,
          5.763999999999999,
          5.716,
          5.653,
          5.545,
          4.8919999999999995,
          3.615
         ],
         "y": [
          0.8909999999999999,
          0.813,
          0.925,
          0.882,
          0.831,
          0.877,
          0.8959999999999999,
          0.882,
          0.762,
          0.847,
          0.8640000000000001,
          0.898,
          0.812,
          0.8320000000000001,
          0.821,
          0.81,
          0.893,
          0.853,
          0.861,
          0.54
         ]
        },
        {
         "marker": {
          "size": [
           10.556,
           10.529000000000002,
           9.318,
           10.369000000000002,
           10.499,
           10.481,
           10.382,
           10.284,
           9.787,
           10.315,
           10.357999999999999,
           10.217,
           9.59,
           9.94,
           10.016,
           9.52,
           9.693
          ],
          "sizemode": "area",
          "sizeref": 0.0036396875
         },
         "mode": "markers",
         "name": "Central and Eastern Europe",
         "text": [
          "Czech Republic",
          "Slovenia",
          "Kosovo",
          "Slovakia",
          "Lithuania",
          "Estonia",
          "Poland",
          "Romania",
          "Serbia",
          "Latvia",
          "Hungary",
          "Croatia",
          "Bosnia and Herzegovina",
          "Montenegro",
          "Bulgaria",
          "Albania",
          "North Macedonia"
         ],
         "type": "scatter",
         "x": [
          6.965,
          6.461,
          6.372000000000001,
          6.331,
          6.255,
          6.189,
          6.166,
          6.14,
          6.077999999999999,
          6.032,
          5.992000000000001,
          5.882000000000001,
          5.813,
          5.581,
          5.266,
          5.117,
          5.101
         ],
         "y": [
          0.9470000000000001,
          0.948,
          0.821,
          0.9359999999999999,
          0.935,
          0.941,
          0.898,
          0.8320000000000001,
          0.873,
          0.927,
          0.943,
          0.924,
          0.87,
          0.858,
          0.9309999999999999,
          0.6970000000000001,
          0.805
         ]
        },
        {
         "marker": {
          "size": [
           10.870999999999999,
           10.610999999999999,
           10.651,
           9.4,
           11,
           9.673
          ],
          "sizemode": "area",
          "sizeref": 0.0036396875
         },
         "mode": "markers",
         "name": "East Asia",
         "text": [
          "Taiwan Province of China",
          "Japan",
          "South Korea",
          "Mongolia",
          "Hong Kong S.A.R. of China",
          "China"
         ],
         "type": "scatter",
         "x": [
          6.584,
          5.94,
          5.845,
          5.6770000000000005,
          5.477,
          5.3389999999999995
         ],
         "y": [
          0.898,
          0.884,
          0.799,
          0.935,
          0.836,
          0.8109999999999999
         ]
        },
        {
         "marker": {
          "size": [
           11.488,
           9.805,
           9.076,
           8.972999999999999,
           10.238,
           9.365,
           8.947000000000001,
           8.36,
           8.541
          ],
          "sizemode": "area",
          "sizeref": 0.0036396875
         },
         "mode": "markers",
         "name": "Southeast Asia",
         "text": [
          "Singapore",
          "Thailand",
          "Philippines",
          "Vietnam",
          "Malaysia",
          "Indonesia",
          "Laos",
          "Cambodia",
          "Myanmar"
         ],
         "type": "scatter",
         "x": [
          6.377000000000001,
          5.985,
          5.88,
          5.4110000000000005,
          5.3839999999999995,
          5.345,
          5.03,
          4.83,
          4.426
         ],
         "y": [
          0.915,
          0.888,
          0.83,
          0.85,
          0.8170000000000001,
          0.8109999999999999,
          0.728,
          0.765,
          0.779
         ]
        },
        {
         "marker": {
          "size": [
           8.836,
           10.155,
           9.454,
           8.538,
           9.853,
           10.189,
           8.091000000000001,
           9.487,
           9.568999999999999,
           9.629,
           9.585,
           9.436
          ],
          "sizemode": "area",
          "sizeref": 0.0036396875
         },
         "mode": "markers",
         "name": "Commonwealth of Independent States",
         "text": [
          "Uzbekistan",
          "Kazakhstan",
          "Moldova",
          "Kyrgyzstan",
          "Belarus",
          "Russia",
          "Tajikistan",
          "Armenia",
          "Azerbaijan",
          "Turkmenistan",
          "Georgia",
          "Ukraine"
         ],
         "type": "scatter",
         "x": [
          6.178999999999999,
          6.152,
          5.766,
          5.744,
          5.534,
          5.477,
          5.466,
          5.2829999999999995,
          5.171,
          5.066,
          4.891,
          4.875
         ],
         "y": [
          0.9179999999999999,
          0.9520000000000001,
          0.857,
          0.893,
          0.91,
          0.903,
          0.86,
          0.799,
          0.836,
          0.983,
          0.6709999999999999,
          0.888
         ]
        },
        {
         "marker": {
          "size": [
           10.008,
           8.117,
           8.551,
           8.189,
           8.118,
           8.58,
           7.098,
           7.686,
           8.087,
           7.837999999999999,
           9.402999999999999,
           9.603,
           7.678,
           7.1579999999999995,
           8.533,
           7.744,
           7.6770000000000005,
           7.287999999999999,
           8.361,
           9.161,
           7.364,
           9.065,
           8.031,
           7.694,
           8.542,
           7.396,
           7.362,
           8.145,
           7.434,
           6.635,
           7.876,
           6.957999999999999,
           7.926,
           9.782,
           7.676,
           7.943
          ],
          "sizemode": "area",
          "sizeref": 0.0036396875
         },
         "mode": "markers",
         "name": "Sub-Saharan Africa",
         "text": [
          "Mauritius",
          "Congo (Brazzaville)",
          "Ivory Coast",
          "Cameroon",
          "Senegal",
          "Ghana",
          "Niger",
          "Gambia",
          "Benin",
          "Guinea",
          "South Africa",
          "Gabon",
          "Burkina Faso",
          "Mozambique",
          "Nigeria",
          "Mali",
          "Uganda",
          "Liberia",
          "Kenya",
          "Namibia",
          "Chad",
          "Swaziland",
          "Comoros",
          "Ethiopia",
          "Mauritania",
          "Madagascar",
          "Togo",
          "Zambia",
          "Sierra Leone",
          "Burundi",
          "Tanzania",
          "Malawi",
          "Lesotho",
          "Botswana",
          "Rwanda",
          "Zimbabwe"
         ],
         "type": "scatter",
         "x": [
          6.0489999999999995,
          5.3420000000000005,
          5.306,
          5.142,
          5.132000000000001,
          5.088,
          5.074,
          5.051,
          5.045,
          4.984,
          4.956,
          4.852,
          4.834,
          4.794,
          4.7589999999999995,
          4.723,
          4.636,
          4.625,
          4.607,
          4.574,
          4.355,
          4.308,
          4.289,
          4.275,
          4.227,
          4.208,
          4.107,
          4.073,
          3.8489999999999998,
          3.775,
          3.623,
          3.6,
          3.512,
          3.467,
          3.415,
          3.145
         ],
         "y": [
          0.905,
          0.636,
          0.644,
          0.71,
          0.71,
          0.727,
          0.6409999999999999,
          0.69,
          0.489,
          0.639,
          0.86,
          0.7759999999999999,
          0.672,
          0.7440000000000001,
          0.74,
          0.7240000000000001,
          0.7809999999999999,
          0.72,
          0.688,
          0.818,
          0.619,
          0.77,
          0.626,
          0.764,
          0.795,
          0.6859999999999999,
          0.569,
          0.708,
          0.63,
          0.49,
          0.7020000000000001,
          0.537,
          0.787,
          0.784,
          0.552,
          0.75
         ]
        },
        {
         "marker": {
          "size": [
           8.12,
           9.826,
           8.454,
           8.458,
           9.47,
           8.755,
           7.695
          ],
          "sizemode": "area",
          "sizeref": 0.0036396875
         },
         "mode": "markers",
         "name": "South Asia",
         "text": [
          "Nepal",
          "Maldives",
          "Bangladesh",
          "Pakistan",
          "Sri Lanka",
          "India",
          "Afghanistan"
         ],
         "type": "scatter",
         "x": [
          5.269,
          5.1979999999999995,
          5.025,
          4.934,
          4.325,
          3.819,
          2.523
         ],
         "y": [
          0.774,
          0.9129999999999999,
          0.693,
          0.6509999999999999,
          0.8270000000000001,
          0.603,
          0.46299999999999997
         ]
        }
       ],
       "layout": {
        "height": 650,
        "hovermode": "closest",
        "margin": {
         "b": 50,
         "pad": 5,
         "t": 50
        },
        "showlegend": true,
        "template": {
         "data": {
          "bar": [
           {
            "error_x": {
             "color": "#2a3f5f"
            },
            "error_y": {
             "color": "#2a3f5f"
            },
            "marker": {
             "line": {
              "color": "#E5ECF6",
              "width": 0.5
             },
             "pattern": {
              "fillmode": "overlay",
              "size": 10,
              "solidity": 0.2
             }
            },
            "type": "bar"
           }
          ],
          "barpolar": [
           {
            "marker": {
             "line": {
              "color": "#E5ECF6",
              "width": 0.5
             },
             "pattern": {
              "fillmode": "overlay",
              "size": 10,
              "solidity": 0.2
             }
            },
            "type": "barpolar"
           }
          ],
          "carpet": [
           {
            "aaxis": {
             "endlinecolor": "#2a3f5f",
             "gridcolor": "white",
             "linecolor": "white",
             "minorgridcolor": "white",
             "startlinecolor": "#2a3f5f"
            },
            "baxis": {
             "endlinecolor": "#2a3f5f",
             "gridcolor": "white",
             "linecolor": "white",
             "minorgridcolor": "white",
             "startlinecolor": "#2a3f5f"
            },
            "type": "carpet"
           }
          ],
          "choropleth": [
           {
            "colorbar": {
             "outlinewidth": 0,
             "ticks": ""
            },
            "type": "choropleth"
           }
          ],
          "contour": [
           {
            "colorbar": {
             "outlinewidth": 0,
             "ticks": ""
            },
            "colorscale": [
             [
              0,
              "#0d0887"
             ],
             [
              0.1111111111111111,
              "#46039f"
             ],
             [
              0.2222222222222222,
              "#7201a8"
             ],
             [
              0.3333333333333333,
              "#9c179e"
             ],
             [
              0.4444444444444444,
              "#bd3786"
             ],
             [
              0.5555555555555556,
              "#d8576b"
             ],
             [
              0.6666666666666666,
              "#ed7953"
             ],
             [
              0.7777777777777778,
              "#fb9f3a"
             ],
             [
              0.8888888888888888,
              "#fdca26"
             ],
             [
              1,
              "#f0f921"
             ]
            ],
            "type": "contour"
           }
          ],
          "contourcarpet": [
           {
            "colorbar": {
             "outlinewidth": 0,
             "ticks": ""
            },
            "type": "contourcarpet"
           }
          ],
          "heatmap": [
           {
            "colorbar": {
             "outlinewidth": 0,
             "ticks": ""
            },
            "colorscale": [
             [
              0,
              "#0d0887"
             ],
             [
              0.1111111111111111,
              "#46039f"
             ],
             [
              0.2222222222222222,
              "#7201a8"
             ],
             [
              0.3333333333333333,
              "#9c179e"
             ],
             [
              0.4444444444444444,
              "#bd3786"
             ],
             [
              0.5555555555555556,
              "#d8576b"
             ],
             [
              0.6666666666666666,
              "#ed7953"
             ],
             [
              0.7777777777777778,
              "#fb9f3a"
             ],
             [
              0.8888888888888888,
              "#fdca26"
             ],
             [
              1,
              "#f0f921"
             ]
            ],
            "type": "heatmap"
           }
          ],
          "heatmapgl": [
           {
            "colorbar": {
             "outlinewidth": 0,
             "ticks": ""
            },
            "colorscale": [
             [
              0,
              "#0d0887"
             ],
             [
              0.1111111111111111,
              "#46039f"
             ],
             [
              0.2222222222222222,
              "#7201a8"
             ],
             [
              0.3333333333333333,
              "#9c179e"
             ],
             [
              0.4444444444444444,
              "#bd3786"
             ],
             [
              0.5555555555555556,
              "#d8576b"
             ],
             [
              0.6666666666666666,
              "#ed7953"
             ],
             [
              0.7777777777777778,
              "#fb9f3a"
             ],
             [
              0.8888888888888888,
              "#fdca26"
             ],
             [
              1,
              "#f0f921"
             ]
            ],
            "type": "heatmapgl"
           }
          ],
          "histogram": [
           {
            "marker": {
             "pattern": {
              "fillmode": "overlay",
              "size": 10,
              "solidity": 0.2
             }
            },
            "type": "histogram"
           }
          ],
          "histogram2d": [
           {
            "colorbar": {
             "outlinewidth": 0,
             "ticks": ""
            },
            "colorscale": [
             [
              0,
              "#0d0887"
             ],
             [
              0.1111111111111111,
              "#46039f"
             ],
             [
              0.2222222222222222,
              "#7201a8"
             ],
             [
              0.3333333333333333,
              "#9c179e"
             ],
             [
              0.4444444444444444,
              "#bd3786"
             ],
             [
              0.5555555555555556,
              "#d8576b"
             ],
             [
              0.6666666666666666,
              "#ed7953"
             ],
             [
              0.7777777777777778,
              "#fb9f3a"
             ],
             [
              0.8888888888888888,
              "#fdca26"
             ],
             [
              1,
              "#f0f921"
             ]
            ],
            "type": "histogram2d"
           }
          ],
          "histogram2dcontour": [
           {
            "colorbar": {
             "outlinewidth": 0,
             "ticks": ""
            },
            "colorscale": [
             [
              0,
              "#0d0887"
             ],
             [
              0.1111111111111111,
              "#46039f"
             ],
             [
              0.2222222222222222,
              "#7201a8"
             ],
             [
              0.3333333333333333,
              "#9c179e"
             ],
             [
              0.4444444444444444,
              "#bd3786"
             ],
             [
              0.5555555555555556,
              "#d8576b"
             ],
             [
              0.6666666666666666,
              "#ed7953"
             ],
             [
              0.7777777777777778,
              "#fb9f3a"
             ],
             [
              0.8888888888888888,
              "#fdca26"
             ],
             [
              1,
              "#f0f921"
             ]
            ],
            "type": "histogram2dcontour"
           }
          ],
          "mesh3d": [
           {
            "colorbar": {
             "outlinewidth": 0,
             "ticks": ""
            },
            "type": "mesh3d"
           }
          ],
          "parcoords": [
           {
            "line": {
             "colorbar": {
              "outlinewidth": 0,
              "ticks": ""
             }
            },
            "type": "parcoords"
           }
          ],
          "pie": [
           {
            "automargin": true,
            "type": "pie"
           }
          ],
          "scatter": [
           {
            "marker": {
             "colorbar": {
              "outlinewidth": 0,
              "ticks": ""
             }
            },
            "type": "scatter"
           }
          ],
          "scatter3d": [
           {
            "line": {
             "colorbar": {
              "outlinewidth": 0,
              "ticks": ""
             }
            },
            "marker": {
             "colorbar": {
              "outlinewidth": 0,
              "ticks": ""
             }
            },
            "type": "scatter3d"
           }
          ],
          "scattercarpet": [
           {
            "marker": {
             "colorbar": {
              "outlinewidth": 0,
              "ticks": ""
             }
            },
            "type": "scattercarpet"
           }
          ],
          "scattergeo": [
           {
            "marker": {
             "colorbar": {
              "outlinewidth": 0,
              "ticks": ""
             }
            },
            "type": "scattergeo"
           }
          ],
          "scattergl": [
           {
            "marker": {
             "colorbar": {
              "outlinewidth": 0,
              "ticks": ""
             }
            },
            "type": "scattergl"
           }
          ],
          "scattermapbox": [
           {
            "marker": {
             "colorbar": {
              "outlinewidth": 0,
              "ticks": ""
             }
            },
            "type": "scattermapbox"
           }
          ],
          "scatterpolar": [
           {
            "marker": {
             "colorbar": {
              "outlinewidth": 0,
              "ticks": ""
             }
            },
            "type": "scatterpolar"
           }
          ],
          "scatterpolargl": [
           {
            "marker": {
             "colorbar": {
              "outlinewidth": 0,
              "ticks": ""
             }
            },
            "type": "scatterpolargl"
           }
          ],
          "scatterternary": [
           {
            "marker": {
             "colorbar": {
              "outlinewidth": 0,
              "ticks": ""
             }
            },
            "type": "scatterternary"
           }
          ],
          "surface": [
           {
            "colorbar": {
             "outlinewidth": 0,
             "ticks": ""
            },
            "colorscale": [
             [
              0,
              "#0d0887"
             ],
             [
              0.1111111111111111,
              "#46039f"
             ],
             [
              0.2222222222222222,
              "#7201a8"
             ],
             [
              0.3333333333333333,
              "#9c179e"
             ],
             [
              0.4444444444444444,
              "#bd3786"
             ],
             [
              0.5555555555555556,
              "#d8576b"
             ],
             [
              0.6666666666666666,
              "#ed7953"
             ],
             [
              0.7777777777777778,
              "#fb9f3a"
             ],
             [
              0.8888888888888888,
              "#fdca26"
             ],
             [
              1,
              "#f0f921"
             ]
            ],
            "type": "surface"
           }
          ],
          "table": [
           {
            "cells": {
             "fill": {
              "color": "#EBF0F8"
             },
             "line": {
              "color": "white"
             }
            },
            "header": {
             "fill": {
              "color": "#C8D4E3"
             },
             "line": {
              "color": "white"
             }
            },
            "type": "table"
           }
          ]
         },
         "layout": {
          "annotationdefaults": {
           "arrowcolor": "#2a3f5f",
           "arrowhead": 0,
           "arrowwidth": 1
          },
          "autotypenumbers": "strict",
          "coloraxis": {
           "colorbar": {
            "outlinewidth": 0,
            "ticks": ""
           }
          },
          "colorscale": {
           "diverging": [
            [
             0,
             "#8e0152"
            ],
            [
             0.1,
             "#c51b7d"
            ],
            [
             0.2,
             "#de77ae"
            ],
            [
             0.3,
             "#f1b6da"
            ],
            [
             0.4,
             "#fde0ef"
            ],
            [
             0.5,
             "#f7f7f7"
            ],
            [
             0.6,
             "#e6f5d0"
            ],
            [
             0.7,
             "#b8e186"
            ],
            [
             0.8,
             "#7fbc41"
            ],
            [
             0.9,
             "#4d9221"
            ],
            [
             1,
             "#276419"
            ]
           ],
           "sequential": [
            [
             0,
             "#0d0887"
            ],
            [
             0.1111111111111111,
             "#46039f"
            ],
            [
             0.2222222222222222,
             "#7201a8"
            ],
            [
             0.3333333333333333,
             "#9c179e"
            ],
            [
             0.4444444444444444,
             "#bd3786"
            ],
            [
             0.5555555555555556,
             "#d8576b"
            ],
            [
             0.6666666666666666,
             "#ed7953"
            ],
            [
             0.7777777777777778,
             "#fb9f3a"
            ],
            [
             0.8888888888888888,
             "#fdca26"
            ],
            [
             1,
             "#f0f921"
            ]
           ],
           "sequentialminus": [
            [
             0,
             "#0d0887"
            ],
            [
             0.1111111111111111,
             "#46039f"
            ],
            [
             0.2222222222222222,
             "#7201a8"
            ],
            [
             0.3333333333333333,
             "#9c179e"
            ],
            [
             0.4444444444444444,
             "#bd3786"
            ],
            [
             0.5555555555555556,
             "#d8576b"
            ],
            [
             0.6666666666666666,
             "#ed7953"
            ],
            [
             0.7777777777777778,
             "#fb9f3a"
            ],
            [
             0.8888888888888888,
             "#fdca26"
            ],
            [
             1,
             "#f0f921"
            ]
           ]
          },
          "colorway": [
           "#636efa",
           "#EF553B",
           "#00cc96",
           "#ab63fa",
           "#FFA15A",
           "#19d3f3",
           "#FF6692",
           "#B6E880",
           "#FF97FF",
           "#FECB52"
          ],
          "font": {
           "color": "#2a3f5f"
          },
          "geo": {
           "bgcolor": "white",
           "lakecolor": "white",
           "landcolor": "#E5ECF6",
           "showlakes": true,
           "showland": true,
           "subunitcolor": "white"
          },
          "hoverlabel": {
           "align": "left"
          },
          "hovermode": "closest",
          "mapbox": {
           "style": "light"
          },
          "paper_bgcolor": "white",
          "plot_bgcolor": "#E5ECF6",
          "polar": {
           "angularaxis": {
            "gridcolor": "white",
            "linecolor": "white",
            "ticks": ""
           },
           "bgcolor": "#E5ECF6",
           "radialaxis": {
            "gridcolor": "white",
            "linecolor": "white",
            "ticks": ""
           }
          },
          "scene": {
           "xaxis": {
            "backgroundcolor": "#E5ECF6",
            "gridcolor": "white",
            "gridwidth": 2,
            "linecolor": "white",
            "showbackground": true,
            "ticks": "",
            "zerolinecolor": "white"
           },
           "yaxis": {
            "backgroundcolor": "#E5ECF6",
            "gridcolor": "white",
            "gridwidth": 2,
            "linecolor": "white",
            "showbackground": true,
            "ticks": "",
            "zerolinecolor": "white"
           },
           "zaxis": {
            "backgroundcolor": "#E5ECF6",
            "gridcolor": "white",
            "gridwidth": 2,
            "linecolor": "white",
            "showbackground": true,
            "ticks": "",
            "zerolinecolor": "white"
           }
          },
          "shapedefaults": {
           "line": {
            "color": "#2a3f5f"
           }
          },
          "ternary": {
           "aaxis": {
            "gridcolor": "white",
            "linecolor": "white",
            "ticks": ""
           },
           "baxis": {
            "gridcolor": "white",
            "linecolor": "white",
            "ticks": ""
           },
           "bgcolor": "#E5ECF6",
           "caxis": {
            "gridcolor": "white",
            "linecolor": "white",
            "ticks": ""
           }
          },
          "title": {
           "x": 0.05
          },
          "xaxis": {
           "automargin": true,
           "gridcolor": "white",
           "linecolor": "white",
           "ticks": "",
           "title": {
            "standoff": 15
           },
           "zerolinecolor": "white",
           "zerolinewidth": 2
          },
          "yaxis": {
           "automargin": true,
           "gridcolor": "white",
           "linecolor": "white",
           "ticks": "",
           "title": {
            "standoff": 15
           },
           "zerolinecolor": "white",
           "zerolinewidth": 2
          }
         }
        },
        "title": {
         "text": "Happiness vs Social support vs Economy"
        },
        "xaxis": {
         "autorange": false,
         "range": [
          1.7661,
          10.9788
         ],
         "title": {
          "text": "Ladder score"
         }
        },
        "yaxis": {
         "autorange": false,
         "range": [
          0.32409999999999994,
          1.3761999999999999
         ],
         "title": {
          "text": "Social support"
         }
        }
       }
      },
      "text/html": [
       "<div>                            <div id=\"fc0d15e1-3b48-4549-accf-03757e28b4a0\" class=\"plotly-graph-div\" style=\"height:650px; width:100%;\"></div>            <script type=\"text/javascript\">                require([\"plotly\"], function(Plotly) {                    window.PLOTLYENV=window.PLOTLYENV || {};                                    if (document.getElementById(\"fc0d15e1-3b48-4549-accf-03757e28b4a0\")) {                    Plotly.newPlot(                        \"fc0d15e1-3b48-4549-accf-03757e28b4a0\",                        [{\"marker\":{\"size\":[10.775,10.933,11.117,10.878,10.932,11.052999999999999,10.867,11.647,10.905999999999999,10.873,11.342,10.707,10.823,10.704,10.674000000000001,10.571,10.623,10.575999999999999,10.421,10.279000000000002,10.575999999999999],\"sizemode\":\"area\",\"sizeref\":0.0036396875},\"mode\":\"markers\",\"name\":\"Western Europe\",\"text\":[\"Finland\",\"Denmark\",\"Switzerland\",\"Iceland\",\"Netherlands\",\"Norway\",\"Sweden\",\"Luxembourg\",\"Austria\",\"Germany\",\"Ireland\",\"United Kingdom\",\"Belgium\",\"France\",\"Malta\",\"Spain\",\"Italy\",\"Cyprus\",\"Portugal\",\"Greece\",\"North Cyprus\"],\"type\":\"scatter\",\"x\":[7.8420000000000005,7.62,7.571000000000001,7.553999999999999,7.4639999999999995,7.392,7.3629999999999995,7.324,7.268,7.155,7.085,7.064,6.834,6.69,6.602,6.4910000000000005,6.483,6.223,5.928999999999999,5.723,5.5360000000000005],\"y\":[0.9540000000000001,0.9540000000000001,0.9420000000000001,0.983,0.9420000000000001,0.9540000000000001,0.934,0.9079999999999999,0.934,0.903,0.9470000000000001,0.934,0.9059999999999999,0.9420000000000001,0.9309999999999999,0.932,0.88,0.802,0.879,0.823,0.82]},{\"marker\":{\"size\":[10.642999999999999,10.796,10.776,11.023],\"sizemode\":\"area\",\"sizeref\":0.0036396875},\"mode\":\"markers\",\"name\":\"North America and ANZ\",\"text\":[\"New Zealand\",\"Australia\",\"Canada\",\"United States\"],\"type\":\"scatter\",\"x\":[7.277,7.183,7.103,6.9510000000000005],\"y\":[0.948,0.94,0.9259999999999999,0.92]},{\"marker\":{\"size\":[10.575,10.669,11.085,10.743,10.817,9.622,10.24,8.902999999999999,9.342,9.24,9.584,9.266,9.626,8.485,9.182,9.367,7.577999999999999],\"sizemode\":\"area\",\"sizeref\":0.0036396875},\"mode\":\"markers\",\"name\":\"Middle East and North Africa\",\"text\":[\"Israel\",\"Bahrain\",\"United Arab Emirates\",\"Saudi Arabia\",\"Kuwait\",\"Libya\",\"Turkey\",\"Morocco\",\"Algeria\",\"Iraq\",\"Iran\",\"Tunisia\",\"Lebanon\",\"Palestinian Territories\",\"Jordan\",\"Egypt\",\"Yemen\"],\"type\":\"scatter\",\"x\":[7.157,6.647,6.561,6.494,6.106,5.41,4.948,4.918,4.887,4.854,4.721,4.596,4.584,4.5169999999999995,4.395,4.283,3.658],\"y\":[0.9390000000000001,0.862,0.8440000000000001,0.8909999999999999,0.843,0.8270000000000001,0.8220000000000001,0.56,0.802,0.746,0.71,0.691,0.848,0.826,0.767,0.75,0.8320000000000001]},{\"marker\":{\"size\":[9.88,9.052999999999999,9.966000000000001,9.577,9.859,9.186,10.35,10.071,9.054,9.557,8.62,9.962,8.648,9.458,9.312999999999999,9.046,9.448,9.802,9.073,7.477],\"sizemode\":\"area\",\"sizeref\":0.0036396875},\"mode\":\"markers\",\"name\":\"Latin America and Caribbean\",\"text\":[\"Costa Rica\",\"Guatemala\",\"Uruguay\",\"Brazil\",\"Mexico\",\"Jamaica\",\"Panama\",\"Chile\",\"El Salvador\",\"Colombia\",\"Nicaragua\",\"Argentina\",\"Honduras\",\"Peru\",\"Ecuador\",\"Bolivia\",\"Paraguay\",\"Dominican Republic\",\"Venezuela\",\"Haiti\"],\"type\":\"scatter\",\"x\":[7.069,6.435,6.431,6.33,6.317,6.309,6.18,6.172000000000001,6.061,6.0120000000000005,5.972,5.928999999999999,5.919,5.84,5.763999999999999,5.716,5.653,5.545,4.8919999999999995,3.615],\"y\":[0.8909999999999999,0.813,0.925,0.882,0.831,0.877,0.8959999999999999,0.882,0.762,0.847,0.8640000000000001,0.898,0.812,0.8320000000000001,0.821,0.81,0.893,0.853,0.861,0.54]},{\"marker\":{\"size\":[10.556,10.529000000000002,9.318,10.369000000000002,10.499,10.481,10.382,10.284,9.787,10.315,10.357999999999999,10.217,9.59,9.94,10.016,9.52,9.693],\"sizemode\":\"area\",\"sizeref\":0.0036396875},\"mode\":\"markers\",\"name\":\"Central and Eastern Europe\",\"text\":[\"Czech Republic\",\"Slovenia\",\"Kosovo\",\"Slovakia\",\"Lithuania\",\"Estonia\",\"Poland\",\"Romania\",\"Serbia\",\"Latvia\",\"Hungary\",\"Croatia\",\"Bosnia and Herzegovina\",\"Montenegro\",\"Bulgaria\",\"Albania\",\"North Macedonia\"],\"type\":\"scatter\",\"x\":[6.965,6.461,6.372000000000001,6.331,6.255,6.189,6.166,6.14,6.077999999999999,6.032,5.992000000000001,5.882000000000001,5.813,5.581,5.266,5.117,5.101],\"y\":[0.9470000000000001,0.948,0.821,0.9359999999999999,0.935,0.941,0.898,0.8320000000000001,0.873,0.927,0.943,0.924,0.87,0.858,0.9309999999999999,0.6970000000000001,0.805]},{\"marker\":{\"size\":[10.870999999999999,10.610999999999999,10.651,9.4,11.0,9.673],\"sizemode\":\"area\",\"sizeref\":0.0036396875},\"mode\":\"markers\",\"name\":\"East Asia\",\"text\":[\"Taiwan Province of China\",\"Japan\",\"South Korea\",\"Mongolia\",\"Hong Kong S.A.R. of China\",\"China\"],\"type\":\"scatter\",\"x\":[6.584,5.94,5.845,5.6770000000000005,5.477,5.3389999999999995],\"y\":[0.898,0.884,0.799,0.935,0.836,0.8109999999999999]},{\"marker\":{\"size\":[11.488,9.805,9.076,8.972999999999999,10.238,9.365,8.947000000000001,8.36,8.541],\"sizemode\":\"area\",\"sizeref\":0.0036396875},\"mode\":\"markers\",\"name\":\"Southeast Asia\",\"text\":[\"Singapore\",\"Thailand\",\"Philippines\",\"Vietnam\",\"Malaysia\",\"Indonesia\",\"Laos\",\"Cambodia\",\"Myanmar\"],\"type\":\"scatter\",\"x\":[6.377000000000001,5.985,5.88,5.4110000000000005,5.3839999999999995,5.345,5.03,4.83,4.426],\"y\":[0.915,0.888,0.83,0.85,0.8170000000000001,0.8109999999999999,0.728,0.765,0.779]},{\"marker\":{\"size\":[8.836,10.155,9.454,8.538,9.853,10.189,8.091000000000001,9.487,9.568999999999999,9.629,9.585,9.436],\"sizemode\":\"area\",\"sizeref\":0.0036396875},\"mode\":\"markers\",\"name\":\"Commonwealth of Independent States\",\"text\":[\"Uzbekistan\",\"Kazakhstan\",\"Moldova\",\"Kyrgyzstan\",\"Belarus\",\"Russia\",\"Tajikistan\",\"Armenia\",\"Azerbaijan\",\"Turkmenistan\",\"Georgia\",\"Ukraine\"],\"type\":\"scatter\",\"x\":[6.178999999999999,6.152,5.766,5.744,5.534,5.477,5.466,5.2829999999999995,5.171,5.066,4.891,4.875],\"y\":[0.9179999999999999,0.9520000000000001,0.857,0.893,0.91,0.903,0.86,0.799,0.836,0.983,0.6709999999999999,0.888]},{\"marker\":{\"size\":[10.008,8.117,8.551,8.189,8.118,8.58,7.098,7.686,8.087,7.837999999999999,9.402999999999999,9.603,7.678,7.1579999999999995,8.533,7.744,7.6770000000000005,7.287999999999999,8.361,9.161,7.364,9.065,8.031,7.694,8.542,7.396,7.362,8.145,7.434,6.635,7.876,6.957999999999999,7.926,9.782,7.676,7.943],\"sizemode\":\"area\",\"sizeref\":0.0036396875},\"mode\":\"markers\",\"name\":\"Sub-Saharan Africa\",\"text\":[\"Mauritius\",\"Congo (Brazzaville)\",\"Ivory Coast\",\"Cameroon\",\"Senegal\",\"Ghana\",\"Niger\",\"Gambia\",\"Benin\",\"Guinea\",\"South Africa\",\"Gabon\",\"Burkina Faso\",\"Mozambique\",\"Nigeria\",\"Mali\",\"Uganda\",\"Liberia\",\"Kenya\",\"Namibia\",\"Chad\",\"Swaziland\",\"Comoros\",\"Ethiopia\",\"Mauritania\",\"Madagascar\",\"Togo\",\"Zambia\",\"Sierra Leone\",\"Burundi\",\"Tanzania\",\"Malawi\",\"Lesotho\",\"Botswana\",\"Rwanda\",\"Zimbabwe\"],\"type\":\"scatter\",\"x\":[6.0489999999999995,5.3420000000000005,5.306,5.142,5.132000000000001,5.088,5.074,5.051,5.045,4.984,4.956,4.852,4.834,4.794,4.7589999999999995,4.723,4.636,4.625,4.607,4.574,4.355,4.308,4.289,4.275,4.227,4.208,4.107,4.073,3.8489999999999998,3.775,3.623,3.6,3.512,3.467,3.415,3.145],\"y\":[0.905,0.636,0.644,0.71,0.71,0.727,0.6409999999999999,0.69,0.489,0.639,0.86,0.7759999999999999,0.672,0.7440000000000001,0.74,0.7240000000000001,0.7809999999999999,0.72,0.688,0.818,0.619,0.77,0.626,0.764,0.795,0.6859999999999999,0.569,0.708,0.63,0.49,0.7020000000000001,0.537,0.787,0.784,0.552,0.75]},{\"marker\":{\"size\":[8.12,9.826,8.454,8.458,9.47,8.755,7.695],\"sizemode\":\"area\",\"sizeref\":0.0036396875},\"mode\":\"markers\",\"name\":\"South Asia\",\"text\":[\"Nepal\",\"Maldives\",\"Bangladesh\",\"Pakistan\",\"Sri Lanka\",\"India\",\"Afghanistan\"],\"type\":\"scatter\",\"x\":[5.269,5.1979999999999995,5.025,4.934,4.325,3.819,2.523],\"y\":[0.774,0.9129999999999999,0.693,0.6509999999999999,0.8270000000000001,0.603,0.46299999999999997]}],                        {\"height\":650,\"hovermode\":\"closest\",\"margin\":{\"b\":50,\"pad\":5,\"t\":50},\"showlegend\":true,\"template\":{\"data\":{\"bar\":[{\"error_x\":{\"color\":\"#2a3f5f\"},\"error_y\":{\"color\":\"#2a3f5f\"},\"marker\":{\"line\":{\"color\":\"#E5ECF6\",\"width\":0.5},\"pattern\":{\"fillmode\":\"overlay\",\"size\":10,\"solidity\":0.2}},\"type\":\"bar\"}],\"barpolar\":[{\"marker\":{\"line\":{\"color\":\"#E5ECF6\",\"width\":0.5},\"pattern\":{\"fillmode\":\"overlay\",\"size\":10,\"solidity\":0.2}},\"type\":\"barpolar\"}],\"carpet\":[{\"aaxis\":{\"endlinecolor\":\"#2a3f5f\",\"gridcolor\":\"white\",\"linecolor\":\"white\",\"minorgridcolor\":\"white\",\"startlinecolor\":\"#2a3f5f\"},\"baxis\":{\"endlinecolor\":\"#2a3f5f\",\"gridcolor\":\"white\",\"linecolor\":\"white\",\"minorgridcolor\":\"white\",\"startlinecolor\":\"#2a3f5f\"},\"type\":\"carpet\"}],\"choropleth\":[{\"colorbar\":{\"outlinewidth\":0,\"ticks\":\"\"},\"type\":\"choropleth\"}],\"contour\":[{\"colorbar\":{\"outlinewidth\":0,\"ticks\":\"\"},\"colorscale\":[[0.0,\"#0d0887\"],[0.1111111111111111,\"#46039f\"],[0.2222222222222222,\"#7201a8\"],[0.3333333333333333,\"#9c179e\"],[0.4444444444444444,\"#bd3786\"],[0.5555555555555556,\"#d8576b\"],[0.6666666666666666,\"#ed7953\"],[0.7777777777777778,\"#fb9f3a\"],[0.8888888888888888,\"#fdca26\"],[1.0,\"#f0f921\"]],\"type\":\"contour\"}],\"contourcarpet\":[{\"colorbar\":{\"outlinewidth\":0,\"ticks\":\"\"},\"type\":\"contourcarpet\"}],\"heatmap\":[{\"colorbar\":{\"outlinewidth\":0,\"ticks\":\"\"},\"colorscale\":[[0.0,\"#0d0887\"],[0.1111111111111111,\"#46039f\"],[0.2222222222222222,\"#7201a8\"],[0.3333333333333333,\"#9c179e\"],[0.4444444444444444,\"#bd3786\"],[0.5555555555555556,\"#d8576b\"],[0.6666666666666666,\"#ed7953\"],[0.7777777777777778,\"#fb9f3a\"],[0.8888888888888888,\"#fdca26\"],[1.0,\"#f0f921\"]],\"type\":\"heatmap\"}],\"heatmapgl\":[{\"colorbar\":{\"outlinewidth\":0,\"ticks\":\"\"},\"colorscale\":[[0.0,\"#0d0887\"],[0.1111111111111111,\"#46039f\"],[0.2222222222222222,\"#7201a8\"],[0.3333333333333333,\"#9c179e\"],[0.4444444444444444,\"#bd3786\"],[0.5555555555555556,\"#d8576b\"],[0.6666666666666666,\"#ed7953\"],[0.7777777777777778,\"#fb9f3a\"],[0.8888888888888888,\"#fdca26\"],[1.0,\"#f0f921\"]],\"type\":\"heatmapgl\"}],\"histogram\":[{\"marker\":{\"pattern\":{\"fillmode\":\"overlay\",\"size\":10,\"solidity\":0.2}},\"type\":\"histogram\"}],\"histogram2d\":[{\"colorbar\":{\"outlinewidth\":0,\"ticks\":\"\"},\"colorscale\":[[0.0,\"#0d0887\"],[0.1111111111111111,\"#46039f\"],[0.2222222222222222,\"#7201a8\"],[0.3333333333333333,\"#9c179e\"],[0.4444444444444444,\"#bd3786\"],[0.5555555555555556,\"#d8576b\"],[0.6666666666666666,\"#ed7953\"],[0.7777777777777778,\"#fb9f3a\"],[0.8888888888888888,\"#fdca26\"],[1.0,\"#f0f921\"]],\"type\":\"histogram2d\"}],\"histogram2dcontour\":[{\"colorbar\":{\"outlinewidth\":0,\"ticks\":\"\"},\"colorscale\":[[0.0,\"#0d0887\"],[0.1111111111111111,\"#46039f\"],[0.2222222222222222,\"#7201a8\"],[0.3333333333333333,\"#9c179e\"],[0.4444444444444444,\"#bd3786\"],[0.5555555555555556,\"#d8576b\"],[0.6666666666666666,\"#ed7953\"],[0.7777777777777778,\"#fb9f3a\"],[0.8888888888888888,\"#fdca26\"],[1.0,\"#f0f921\"]],\"type\":\"histogram2dcontour\"}],\"mesh3d\":[{\"colorbar\":{\"outlinewidth\":0,\"ticks\":\"\"},\"type\":\"mesh3d\"}],\"parcoords\":[{\"line\":{\"colorbar\":{\"outlinewidth\":0,\"ticks\":\"\"}},\"type\":\"parcoords\"}],\"pie\":[{\"automargin\":true,\"type\":\"pie\"}],\"scatter\":[{\"marker\":{\"colorbar\":{\"outlinewidth\":0,\"ticks\":\"\"}},\"type\":\"scatter\"}],\"scatter3d\":[{\"line\":{\"colorbar\":{\"outlinewidth\":0,\"ticks\":\"\"}},\"marker\":{\"colorbar\":{\"outlinewidth\":0,\"ticks\":\"\"}},\"type\":\"scatter3d\"}],\"scattercarpet\":[{\"marker\":{\"colorbar\":{\"outlinewidth\":0,\"ticks\":\"\"}},\"type\":\"scattercarpet\"}],\"scattergeo\":[{\"marker\":{\"colorbar\":{\"outlinewidth\":0,\"ticks\":\"\"}},\"type\":\"scattergeo\"}],\"scattergl\":[{\"marker\":{\"colorbar\":{\"outlinewidth\":0,\"ticks\":\"\"}},\"type\":\"scattergl\"}],\"scattermapbox\":[{\"marker\":{\"colorbar\":{\"outlinewidth\":0,\"ticks\":\"\"}},\"type\":\"scattermapbox\"}],\"scatterpolar\":[{\"marker\":{\"colorbar\":{\"outlinewidth\":0,\"ticks\":\"\"}},\"type\":\"scatterpolar\"}],\"scatterpolargl\":[{\"marker\":{\"colorbar\":{\"outlinewidth\":0,\"ticks\":\"\"}},\"type\":\"scatterpolargl\"}],\"scatterternary\":[{\"marker\":{\"colorbar\":{\"outlinewidth\":0,\"ticks\":\"\"}},\"type\":\"scatterternary\"}],\"surface\":[{\"colorbar\":{\"outlinewidth\":0,\"ticks\":\"\"},\"colorscale\":[[0.0,\"#0d0887\"],[0.1111111111111111,\"#46039f\"],[0.2222222222222222,\"#7201a8\"],[0.3333333333333333,\"#9c179e\"],[0.4444444444444444,\"#bd3786\"],[0.5555555555555556,\"#d8576b\"],[0.6666666666666666,\"#ed7953\"],[0.7777777777777778,\"#fb9f3a\"],[0.8888888888888888,\"#fdca26\"],[1.0,\"#f0f921\"]],\"type\":\"surface\"}],\"table\":[{\"cells\":{\"fill\":{\"color\":\"#EBF0F8\"},\"line\":{\"color\":\"white\"}},\"header\":{\"fill\":{\"color\":\"#C8D4E3\"},\"line\":{\"color\":\"white\"}},\"type\":\"table\"}]},\"layout\":{\"annotationdefaults\":{\"arrowcolor\":\"#2a3f5f\",\"arrowhead\":0,\"arrowwidth\":1},\"autotypenumbers\":\"strict\",\"coloraxis\":{\"colorbar\":{\"outlinewidth\":0,\"ticks\":\"\"}},\"colorscale\":{\"diverging\":[[0,\"#8e0152\"],[0.1,\"#c51b7d\"],[0.2,\"#de77ae\"],[0.3,\"#f1b6da\"],[0.4,\"#fde0ef\"],[0.5,\"#f7f7f7\"],[0.6,\"#e6f5d0\"],[0.7,\"#b8e186\"],[0.8,\"#7fbc41\"],[0.9,\"#4d9221\"],[1,\"#276419\"]],\"sequential\":[[0.0,\"#0d0887\"],[0.1111111111111111,\"#46039f\"],[0.2222222222222222,\"#7201a8\"],[0.3333333333333333,\"#9c179e\"],[0.4444444444444444,\"#bd3786\"],[0.5555555555555556,\"#d8576b\"],[0.6666666666666666,\"#ed7953\"],[0.7777777777777778,\"#fb9f3a\"],[0.8888888888888888,\"#fdca26\"],[1.0,\"#f0f921\"]],\"sequentialminus\":[[0.0,\"#0d0887\"],[0.1111111111111111,\"#46039f\"],[0.2222222222222222,\"#7201a8\"],[0.3333333333333333,\"#9c179e\"],[0.4444444444444444,\"#bd3786\"],[0.5555555555555556,\"#d8576b\"],[0.6666666666666666,\"#ed7953\"],[0.7777777777777778,\"#fb9f3a\"],[0.8888888888888888,\"#fdca26\"],[1.0,\"#f0f921\"]]},\"colorway\":[\"#636efa\",\"#EF553B\",\"#00cc96\",\"#ab63fa\",\"#FFA15A\",\"#19d3f3\",\"#FF6692\",\"#B6E880\",\"#FF97FF\",\"#FECB52\"],\"font\":{\"color\":\"#2a3f5f\"},\"geo\":{\"bgcolor\":\"white\",\"lakecolor\":\"white\",\"landcolor\":\"#E5ECF6\",\"showlakes\":true,\"showland\":true,\"subunitcolor\":\"white\"},\"hoverlabel\":{\"align\":\"left\"},\"hovermode\":\"closest\",\"mapbox\":{\"style\":\"light\"},\"paper_bgcolor\":\"white\",\"plot_bgcolor\":\"#E5ECF6\",\"polar\":{\"angularaxis\":{\"gridcolor\":\"white\",\"linecolor\":\"white\",\"ticks\":\"\"},\"bgcolor\":\"#E5ECF6\",\"radialaxis\":{\"gridcolor\":\"white\",\"linecolor\":\"white\",\"ticks\":\"\"}},\"scene\":{\"xaxis\":{\"backgroundcolor\":\"#E5ECF6\",\"gridcolor\":\"white\",\"gridwidth\":2,\"linecolor\":\"white\",\"showbackground\":true,\"ticks\":\"\",\"zerolinecolor\":\"white\"},\"yaxis\":{\"backgroundcolor\":\"#E5ECF6\",\"gridcolor\":\"white\",\"gridwidth\":2,\"linecolor\":\"white\",\"showbackground\":true,\"ticks\":\"\",\"zerolinecolor\":\"white\"},\"zaxis\":{\"backgroundcolor\":\"#E5ECF6\",\"gridcolor\":\"white\",\"gridwidth\":2,\"linecolor\":\"white\",\"showbackground\":true,\"ticks\":\"\",\"zerolinecolor\":\"white\"}},\"shapedefaults\":{\"line\":{\"color\":\"#2a3f5f\"}},\"ternary\":{\"aaxis\":{\"gridcolor\":\"white\",\"linecolor\":\"white\",\"ticks\":\"\"},\"baxis\":{\"gridcolor\":\"white\",\"linecolor\":\"white\",\"ticks\":\"\"},\"bgcolor\":\"#E5ECF6\",\"caxis\":{\"gridcolor\":\"white\",\"linecolor\":\"white\",\"ticks\":\"\"}},\"title\":{\"x\":0.05},\"xaxis\":{\"automargin\":true,\"gridcolor\":\"white\",\"linecolor\":\"white\",\"ticks\":\"\",\"title\":{\"standoff\":15},\"zerolinecolor\":\"white\",\"zerolinewidth\":2},\"yaxis\":{\"automargin\":true,\"gridcolor\":\"white\",\"linecolor\":\"white\",\"ticks\":\"\",\"title\":{\"standoff\":15},\"zerolinecolor\":\"white\",\"zerolinewidth\":2}}},\"title\":{\"text\":\"Happiness vs Social support vs Economy\"},\"xaxis\":{\"autorange\":false,\"range\":[1.7661,10.9788],\"title\":{\"text\":\"Ladder score\"}},\"yaxis\":{\"autorange\":false,\"range\":[0.32409999999999994,1.3761999999999999],\"title\":{\"text\":\"Social support\"}}},                        {\"scrollzoom\": true, \"responsive\": true}                    ).then(function(){\n",
       "                            \n",
       "var gd = document.getElementById('fc0d15e1-3b48-4549-accf-03757e28b4a0');\n",
       "var x = new MutationObserver(function (mutations, observer) {{\n",
       "        var display = window.getComputedStyle(gd).display;\n",
       "        if (!display || display === 'none') {{\n",
       "            console.log([gd, 'removed!']);\n",
       "            Plotly.purge(gd);\n",
       "            observer.disconnect();\n",
       "        }}\n",
       "}});\n",
       "\n",
       "// Listen for the removal of the full notebook cells\n",
       "var notebookContainer = gd.closest('#notebook-container');\n",
       "if (notebookContainer) {{\n",
       "    x.observe(notebookContainer, {childList: true});\n",
       "}}\n",
       "\n",
       "// Listen for the clearing of the current output cell\n",
       "var outputEl = gd.closest('.output');\n",
       "if (outputEl) {{\n",
       "    x.observe(outputEl, {childList: true});\n",
       "}}\n",
       "\n",
       "                        })                };                });            </script>        </div>"
      ]
     },
     "metadata": {},
     "output_type": "display_data"
    }
   ],
   "source": [
    "import warnings\n",
    "warnings.filterwarnings('ignore')\n",
    "\n",
    "figure = bubbleplot(dataset = data, x_column = 'Ladder score', y_column = 'Social support', \n",
    "    bubble_column = 'Country name', size_column = 'Logged GDP per capita', color_column = 'Regional indicator', \n",
    "    x_title = \"Ladder score\", y_title = \"Social support\", title = 'Happiness vs Social support vs Economy',\n",
    "    x_logscale = False, scale_bubble = 1, height = 650)\n",
    "\n",
    "py.iplot(figure, config={'scrollzoom': True})"
   ]
  },
  {
   "cell_type": "code",
   "execution_count": 9,
   "metadata": {
    "scrolled": true
   },
   "outputs": [
    {
     "data": {
      "application/vnd.plotly.v1+json": {
       "config": {
        "linkText": "Export to plot.ly",
        "plotlyServerURL": "https://plot.ly",
        "showLink": false
       },
       "data": [
        {
         "colorscale": [
          [
           0,
           "#440154"
          ],
          [
           0.1111111111111111,
           "#482878"
          ],
          [
           0.2222222222222222,
           "#3e4989"
          ],
          [
           0.3333333333333333,
           "#31688e"
          ],
          [
           0.4444444444444444,
           "#26828e"
          ],
          [
           0.5555555555555556,
           "#1f9e89"
          ],
          [
           0.6666666666666666,
           "#35b779"
          ],
          [
           0.7777777777777778,
           "#6ece58"
          ],
          [
           0.8888888888888888,
           "#b5de2b"
          ],
          [
           1,
           "#fde725"
          ]
         ],
         "locationmode": "country names",
         "locations": [
          "Finland",
          "Denmark",
          "Switzerland",
          "Iceland",
          "Netherlands",
          "Norway",
          "Sweden",
          "Luxembourg",
          "New Zealand",
          "Austria",
          "Australia",
          "Israel",
          "Germany",
          "Canada",
          "Ireland",
          "Costa Rica",
          "United Kingdom",
          "Czech Republic",
          "United States",
          "Belgium",
          "France",
          "Bahrain",
          "Malta",
          "Taiwan Province of China",
          "United Arab Emirates",
          "Saudi Arabia",
          "Spain",
          "Italy",
          "Slovenia",
          "Guatemala",
          "Uruguay",
          "Singapore",
          "Kosovo",
          "Slovakia",
          "Brazil",
          "Mexico",
          "Jamaica",
          "Lithuania",
          "Cyprus",
          "Estonia",
          "Panama",
          "Uzbekistan",
          "Chile",
          "Poland",
          "Kazakhstan",
          "Romania",
          "Kuwait",
          "Serbia",
          "El Salvador",
          "Mauritius",
          "Latvia",
          "Colombia",
          "Hungary",
          "Thailand",
          "Nicaragua",
          "Japan",
          "Argentina",
          "Portugal",
          "Honduras",
          "Croatia",
          "Philippines",
          "South Korea",
          "Peru",
          "Bosnia and Herzegovina",
          "Moldova",
          "Ecuador",
          "Kyrgyzstan",
          "Greece",
          "Bolivia",
          "Mongolia",
          "Paraguay",
          "Montenegro",
          "Dominican Republic",
          "North Cyprus",
          "Belarus",
          "Russia",
          "Hong Kong S.A.R. of China",
          "Tajikistan",
          "Vietnam",
          "Libya",
          "Malaysia",
          "Indonesia",
          "Congo (Brazzaville)",
          "China",
          "Ivory Coast",
          "Armenia",
          "Nepal",
          "Bulgaria",
          "Maldives",
          "Azerbaijan",
          "Cameroon",
          "Senegal",
          "Albania",
          "North Macedonia",
          "Ghana",
          "Niger",
          "Turkmenistan",
          "Gambia",
          "Benin",
          "Laos",
          "Bangladesh",
          "Guinea",
          "South Africa",
          "Turkey",
          "Pakistan",
          "Morocco",
          "Venezuela",
          "Georgia",
          "Algeria",
          "Ukraine",
          "Iraq",
          "Gabon",
          "Burkina Faso",
          "Cambodia",
          "Mozambique",
          "Nigeria",
          "Mali",
          "Iran",
          "Uganda",
          "Liberia",
          "Kenya",
          "Tunisia",
          "Lebanon",
          "Namibia",
          "Palestinian Territories",
          "Myanmar",
          "Jordan",
          "Chad",
          "Sri Lanka",
          "Swaziland",
          "Comoros",
          "Egypt",
          "Ethiopia",
          "Mauritania",
          "Madagascar",
          "Togo",
          "Zambia",
          "Sierra Leone",
          "India",
          "Burundi",
          "Yemen",
          "Tanzania",
          "Haiti",
          "Malawi",
          "Lesotho",
          "Botswana",
          "Rwanda",
          "Zimbabwe",
          "Afghanistan"
         ],
         "text": [
          "Finland",
          "Denmark",
          "Switzerland",
          "Iceland",
          "Netherlands",
          "Norway",
          "Sweden",
          "Luxembourg",
          "New Zealand",
          "Austria",
          "Australia",
          "Israel",
          "Germany",
          "Canada",
          "Ireland",
          "Costa Rica",
          "United Kingdom",
          "Czech Republic",
          "United States",
          "Belgium",
          "France",
          "Bahrain",
          "Malta",
          "Taiwan Province of China",
          "United Arab Emirates",
          "Saudi Arabia",
          "Spain",
          "Italy",
          "Slovenia",
          "Guatemala",
          "Uruguay",
          "Singapore",
          "Kosovo",
          "Slovakia",
          "Brazil",
          "Mexico",
          "Jamaica",
          "Lithuania",
          "Cyprus",
          "Estonia",
          "Panama",
          "Uzbekistan",
          "Chile",
          "Poland",
          "Kazakhstan",
          "Romania",
          "Kuwait",
          "Serbia",
          "El Salvador",
          "Mauritius",
          "Latvia",
          "Colombia",
          "Hungary",
          "Thailand",
          "Nicaragua",
          "Japan",
          "Argentina",
          "Portugal",
          "Honduras",
          "Croatia",
          "Philippines",
          "South Korea",
          "Peru",
          "Bosnia and Herzegovina",
          "Moldova",
          "Ecuador",
          "Kyrgyzstan",
          "Greece",
          "Bolivia",
          "Mongolia",
          "Paraguay",
          "Montenegro",
          "Dominican Republic",
          "North Cyprus",
          "Belarus",
          "Russia",
          "Hong Kong S.A.R. of China",
          "Tajikistan",
          "Vietnam",
          "Libya",
          "Malaysia",
          "Indonesia",
          "Congo (Brazzaville)",
          "China",
          "Ivory Coast",
          "Armenia",
          "Nepal",
          "Bulgaria",
          "Maldives",
          "Azerbaijan",
          "Cameroon",
          "Senegal",
          "Albania",
          "North Macedonia",
          "Ghana",
          "Niger",
          "Turkmenistan",
          "Gambia",
          "Benin",
          "Laos",
          "Bangladesh",
          "Guinea",
          "South Africa",
          "Turkey",
          "Pakistan",
          "Morocco",
          "Venezuela",
          "Georgia",
          "Algeria",
          "Ukraine",
          "Iraq",
          "Gabon",
          "Burkina Faso",
          "Cambodia",
          "Mozambique",
          "Nigeria",
          "Mali",
          "Iran",
          "Uganda",
          "Liberia",
          "Kenya",
          "Tunisia",
          "Lebanon",
          "Namibia",
          "Palestinian Territories",
          "Myanmar",
          "Jordan",
          "Chad",
          "Sri Lanka",
          "Swaziland",
          "Comoros",
          "Egypt",
          "Ethiopia",
          "Mauritania",
          "Madagascar",
          "Togo",
          "Zambia",
          "Sierra Leone",
          "India",
          "Burundi",
          "Yemen",
          "Tanzania",
          "Haiti",
          "Malawi",
          "Lesotho",
          "Botswana",
          "Rwanda",
          "Zimbabwe",
          "Afghanistan"
         ],
         "type": "choropleth",
         "z": [
          7.8420000000000005,
          7.62,
          7.571000000000001,
          7.553999999999999,
          7.4639999999999995,
          7.392,
          7.3629999999999995,
          7.324,
          7.277,
          7.268,
          7.183,
          7.157,
          7.155,
          7.103,
          7.085,
          7.069,
          7.064,
          6.965,
          6.9510000000000005,
          6.834,
          6.69,
          6.647,
          6.602,
          6.584,
          6.561,
          6.494,
          6.4910000000000005,
          6.483,
          6.461,
          6.435,
          6.431,
          6.377000000000001,
          6.372000000000001,
          6.331,
          6.33,
          6.317,
          6.309,
          6.255,
          6.223,
          6.189,
          6.18,
          6.178999999999999,
          6.172000000000001,
          6.166,
          6.152,
          6.14,
          6.106,
          6.077999999999999,
          6.061,
          6.0489999999999995,
          6.032,
          6.0120000000000005,
          5.992000000000001,
          5.985,
          5.972,
          5.94,
          5.928999999999999,
          5.928999999999999,
          5.919,
          5.882000000000001,
          5.88,
          5.845,
          5.84,
          5.813,
          5.766,
          5.763999999999999,
          5.744,
          5.723,
          5.716,
          5.6770000000000005,
          5.653,
          5.581,
          5.545,
          5.5360000000000005,
          5.534,
          5.477,
          5.477,
          5.466,
          5.4110000000000005,
          5.41,
          5.3839999999999995,
          5.345,
          5.3420000000000005,
          5.3389999999999995,
          5.306,
          5.2829999999999995,
          5.269,
          5.266,
          5.1979999999999995,
          5.171,
          5.142,
          5.132000000000001,
          5.117,
          5.101,
          5.088,
          5.074,
          5.066,
          5.051,
          5.045,
          5.03,
          5.025,
          4.984,
          4.956,
          4.948,
          4.934,
          4.918,
          4.8919999999999995,
          4.891,
          4.887,
          4.875,
          4.854,
          4.852,
          4.834,
          4.83,
          4.794,
          4.7589999999999995,
          4.723,
          4.721,
          4.636,
          4.625,
          4.607,
          4.596,
          4.584,
          4.574,
          4.5169999999999995,
          4.426,
          4.395,
          4.355,
          4.325,
          4.308,
          4.289,
          4.283,
          4.275,
          4.227,
          4.208,
          4.107,
          4.073,
          3.8489999999999998,
          3.819,
          3.775,
          3.658,
          3.623,
          3.615,
          3.6,
          3.512,
          3.467,
          3.415,
          3.145,
          2.523
         ]
        }
       ],
       "layout": {
        "annotations": [
         {
          "showarrow": false,
          "text": "Projection",
          "x": 0.1,
          "xanchor": "right",
          "xref": "paper",
          "y": 0.8,
          "yanchor": "bottom"
         }
        ],
        "geo": {
         "projection": {
          "type": "hammer"
         },
         "showcoastlines": true,
         "showframe": true,
         "showlakes": true,
         "showocean": true
        },
        "template": {
         "data": {
          "bar": [
           {
            "error_x": {
             "color": "#2a3f5f"
            },
            "error_y": {
             "color": "#2a3f5f"
            },
            "marker": {
             "line": {
              "color": "#E5ECF6",
              "width": 0.5
             },
             "pattern": {
              "fillmode": "overlay",
              "size": 10,
              "solidity": 0.2
             }
            },
            "type": "bar"
           }
          ],
          "barpolar": [
           {
            "marker": {
             "line": {
              "color": "#E5ECF6",
              "width": 0.5
             },
             "pattern": {
              "fillmode": "overlay",
              "size": 10,
              "solidity": 0.2
             }
            },
            "type": "barpolar"
           }
          ],
          "carpet": [
           {
            "aaxis": {
             "endlinecolor": "#2a3f5f",
             "gridcolor": "white",
             "linecolor": "white",
             "minorgridcolor": "white",
             "startlinecolor": "#2a3f5f"
            },
            "baxis": {
             "endlinecolor": "#2a3f5f",
             "gridcolor": "white",
             "linecolor": "white",
             "minorgridcolor": "white",
             "startlinecolor": "#2a3f5f"
            },
            "type": "carpet"
           }
          ],
          "choropleth": [
           {
            "colorbar": {
             "outlinewidth": 0,
             "ticks": ""
            },
            "type": "choropleth"
           }
          ],
          "contour": [
           {
            "colorbar": {
             "outlinewidth": 0,
             "ticks": ""
            },
            "colorscale": [
             [
              0,
              "#0d0887"
             ],
             [
              0.1111111111111111,
              "#46039f"
             ],
             [
              0.2222222222222222,
              "#7201a8"
             ],
             [
              0.3333333333333333,
              "#9c179e"
             ],
             [
              0.4444444444444444,
              "#bd3786"
             ],
             [
              0.5555555555555556,
              "#d8576b"
             ],
             [
              0.6666666666666666,
              "#ed7953"
             ],
             [
              0.7777777777777778,
              "#fb9f3a"
             ],
             [
              0.8888888888888888,
              "#fdca26"
             ],
             [
              1,
              "#f0f921"
             ]
            ],
            "type": "contour"
           }
          ],
          "contourcarpet": [
           {
            "colorbar": {
             "outlinewidth": 0,
             "ticks": ""
            },
            "type": "contourcarpet"
           }
          ],
          "heatmap": [
           {
            "colorbar": {
             "outlinewidth": 0,
             "ticks": ""
            },
            "colorscale": [
             [
              0,
              "#0d0887"
             ],
             [
              0.1111111111111111,
              "#46039f"
             ],
             [
              0.2222222222222222,
              "#7201a8"
             ],
             [
              0.3333333333333333,
              "#9c179e"
             ],
             [
              0.4444444444444444,
              "#bd3786"
             ],
             [
              0.5555555555555556,
              "#d8576b"
             ],
             [
              0.6666666666666666,
              "#ed7953"
             ],
             [
              0.7777777777777778,
              "#fb9f3a"
             ],
             [
              0.8888888888888888,
              "#fdca26"
             ],
             [
              1,
              "#f0f921"
             ]
            ],
            "type": "heatmap"
           }
          ],
          "heatmapgl": [
           {
            "colorbar": {
             "outlinewidth": 0,
             "ticks": ""
            },
            "colorscale": [
             [
              0,
              "#0d0887"
             ],
             [
              0.1111111111111111,
              "#46039f"
             ],
             [
              0.2222222222222222,
              "#7201a8"
             ],
             [
              0.3333333333333333,
              "#9c179e"
             ],
             [
              0.4444444444444444,
              "#bd3786"
             ],
             [
              0.5555555555555556,
              "#d8576b"
             ],
             [
              0.6666666666666666,
              "#ed7953"
             ],
             [
              0.7777777777777778,
              "#fb9f3a"
             ],
             [
              0.8888888888888888,
              "#fdca26"
             ],
             [
              1,
              "#f0f921"
             ]
            ],
            "type": "heatmapgl"
           }
          ],
          "histogram": [
           {
            "marker": {
             "pattern": {
              "fillmode": "overlay",
              "size": 10,
              "solidity": 0.2
             }
            },
            "type": "histogram"
           }
          ],
          "histogram2d": [
           {
            "colorbar": {
             "outlinewidth": 0,
             "ticks": ""
            },
            "colorscale": [
             [
              0,
              "#0d0887"
             ],
             [
              0.1111111111111111,
              "#46039f"
             ],
             [
              0.2222222222222222,
              "#7201a8"
             ],
             [
              0.3333333333333333,
              "#9c179e"
             ],
             [
              0.4444444444444444,
              "#bd3786"
             ],
             [
              0.5555555555555556,
              "#d8576b"
             ],
             [
              0.6666666666666666,
              "#ed7953"
             ],
             [
              0.7777777777777778,
              "#fb9f3a"
             ],
             [
              0.8888888888888888,
              "#fdca26"
             ],
             [
              1,
              "#f0f921"
             ]
            ],
            "type": "histogram2d"
           }
          ],
          "histogram2dcontour": [
           {
            "colorbar": {
             "outlinewidth": 0,
             "ticks": ""
            },
            "colorscale": [
             [
              0,
              "#0d0887"
             ],
             [
              0.1111111111111111,
              "#46039f"
             ],
             [
              0.2222222222222222,
              "#7201a8"
             ],
             [
              0.3333333333333333,
              "#9c179e"
             ],
             [
              0.4444444444444444,
              "#bd3786"
             ],
             [
              0.5555555555555556,
              "#d8576b"
             ],
             [
              0.6666666666666666,
              "#ed7953"
             ],
             [
              0.7777777777777778,
              "#fb9f3a"
             ],
             [
              0.8888888888888888,
              "#fdca26"
             ],
             [
              1,
              "#f0f921"
             ]
            ],
            "type": "histogram2dcontour"
           }
          ],
          "mesh3d": [
           {
            "colorbar": {
             "outlinewidth": 0,
             "ticks": ""
            },
            "type": "mesh3d"
           }
          ],
          "parcoords": [
           {
            "line": {
             "colorbar": {
              "outlinewidth": 0,
              "ticks": ""
             }
            },
            "type": "parcoords"
           }
          ],
          "pie": [
           {
            "automargin": true,
            "type": "pie"
           }
          ],
          "scatter": [
           {
            "marker": {
             "colorbar": {
              "outlinewidth": 0,
              "ticks": ""
             }
            },
            "type": "scatter"
           }
          ],
          "scatter3d": [
           {
            "line": {
             "colorbar": {
              "outlinewidth": 0,
              "ticks": ""
             }
            },
            "marker": {
             "colorbar": {
              "outlinewidth": 0,
              "ticks": ""
             }
            },
            "type": "scatter3d"
           }
          ],
          "scattercarpet": [
           {
            "marker": {
             "colorbar": {
              "outlinewidth": 0,
              "ticks": ""
             }
            },
            "type": "scattercarpet"
           }
          ],
          "scattergeo": [
           {
            "marker": {
             "colorbar": {
              "outlinewidth": 0,
              "ticks": ""
             }
            },
            "type": "scattergeo"
           }
          ],
          "scattergl": [
           {
            "marker": {
             "colorbar": {
              "outlinewidth": 0,
              "ticks": ""
             }
            },
            "type": "scattergl"
           }
          ],
          "scattermapbox": [
           {
            "marker": {
             "colorbar": {
              "outlinewidth": 0,
              "ticks": ""
             }
            },
            "type": "scattermapbox"
           }
          ],
          "scatterpolar": [
           {
            "marker": {
             "colorbar": {
              "outlinewidth": 0,
              "ticks": ""
             }
            },
            "type": "scatterpolar"
           }
          ],
          "scatterpolargl": [
           {
            "marker": {
             "colorbar": {
              "outlinewidth": 0,
              "ticks": ""
             }
            },
            "type": "scatterpolargl"
           }
          ],
          "scatterternary": [
           {
            "marker": {
             "colorbar": {
              "outlinewidth": 0,
              "ticks": ""
             }
            },
            "type": "scatterternary"
           }
          ],
          "surface": [
           {
            "colorbar": {
             "outlinewidth": 0,
             "ticks": ""
            },
            "colorscale": [
             [
              0,
              "#0d0887"
             ],
             [
              0.1111111111111111,
              "#46039f"
             ],
             [
              0.2222222222222222,
              "#7201a8"
             ],
             [
              0.3333333333333333,
              "#9c179e"
             ],
             [
              0.4444444444444444,
              "#bd3786"
             ],
             [
              0.5555555555555556,
              "#d8576b"
             ],
             [
              0.6666666666666666,
              "#ed7953"
             ],
             [
              0.7777777777777778,
              "#fb9f3a"
             ],
             [
              0.8888888888888888,
              "#fdca26"
             ],
             [
              1,
              "#f0f921"
             ]
            ],
            "type": "surface"
           }
          ],
          "table": [
           {
            "cells": {
             "fill": {
              "color": "#EBF0F8"
             },
             "line": {
              "color": "white"
             }
            },
            "header": {
             "fill": {
              "color": "#C8D4E3"
             },
             "line": {
              "color": "white"
             }
            },
            "type": "table"
           }
          ]
         },
         "layout": {
          "annotationdefaults": {
           "arrowcolor": "#2a3f5f",
           "arrowhead": 0,
           "arrowwidth": 1
          },
          "autotypenumbers": "strict",
          "coloraxis": {
           "colorbar": {
            "outlinewidth": 0,
            "ticks": ""
           }
          },
          "colorscale": {
           "diverging": [
            [
             0,
             "#8e0152"
            ],
            [
             0.1,
             "#c51b7d"
            ],
            [
             0.2,
             "#de77ae"
            ],
            [
             0.3,
             "#f1b6da"
            ],
            [
             0.4,
             "#fde0ef"
            ],
            [
             0.5,
             "#f7f7f7"
            ],
            [
             0.6,
             "#e6f5d0"
            ],
            [
             0.7,
             "#b8e186"
            ],
            [
             0.8,
             "#7fbc41"
            ],
            [
             0.9,
             "#4d9221"
            ],
            [
             1,
             "#276419"
            ]
           ],
           "sequential": [
            [
             0,
             "#0d0887"
            ],
            [
             0.1111111111111111,
             "#46039f"
            ],
            [
             0.2222222222222222,
             "#7201a8"
            ],
            [
             0.3333333333333333,
             "#9c179e"
            ],
            [
             0.4444444444444444,
             "#bd3786"
            ],
            [
             0.5555555555555556,
             "#d8576b"
            ],
            [
             0.6666666666666666,
             "#ed7953"
            ],
            [
             0.7777777777777778,
             "#fb9f3a"
            ],
            [
             0.8888888888888888,
             "#fdca26"
            ],
            [
             1,
             "#f0f921"
            ]
           ],
           "sequentialminus": [
            [
             0,
             "#0d0887"
            ],
            [
             0.1111111111111111,
             "#46039f"
            ],
            [
             0.2222222222222222,
             "#7201a8"
            ],
            [
             0.3333333333333333,
             "#9c179e"
            ],
            [
             0.4444444444444444,
             "#bd3786"
            ],
            [
             0.5555555555555556,
             "#d8576b"
            ],
            [
             0.6666666666666666,
             "#ed7953"
            ],
            [
             0.7777777777777778,
             "#fb9f3a"
            ],
            [
             0.8888888888888888,
             "#fdca26"
            ],
            [
             1,
             "#f0f921"
            ]
           ]
          },
          "colorway": [
           "#636efa",
           "#EF553B",
           "#00cc96",
           "#ab63fa",
           "#FFA15A",
           "#19d3f3",
           "#FF6692",
           "#B6E880",
           "#FF97FF",
           "#FECB52"
          ],
          "font": {
           "color": "#2a3f5f"
          },
          "geo": {
           "bgcolor": "white",
           "lakecolor": "white",
           "landcolor": "#E5ECF6",
           "showlakes": true,
           "showland": true,
           "subunitcolor": "white"
          },
          "hoverlabel": {
           "align": "left"
          },
          "hovermode": "closest",
          "mapbox": {
           "style": "light"
          },
          "paper_bgcolor": "white",
          "plot_bgcolor": "#E5ECF6",
          "polar": {
           "angularaxis": {
            "gridcolor": "white",
            "linecolor": "white",
            "ticks": ""
           },
           "bgcolor": "#E5ECF6",
           "radialaxis": {
            "gridcolor": "white",
            "linecolor": "white",
            "ticks": ""
           }
          },
          "scene": {
           "xaxis": {
            "backgroundcolor": "#E5ECF6",
            "gridcolor": "white",
            "gridwidth": 2,
            "linecolor": "white",
            "showbackground": true,
            "ticks": "",
            "zerolinecolor": "white"
           },
           "yaxis": {
            "backgroundcolor": "#E5ECF6",
            "gridcolor": "white",
            "gridwidth": 2,
            "linecolor": "white",
            "showbackground": true,
            "ticks": "",
            "zerolinecolor": "white"
           },
           "zaxis": {
            "backgroundcolor": "#E5ECF6",
            "gridcolor": "white",
            "gridwidth": 2,
            "linecolor": "white",
            "showbackground": true,
            "ticks": "",
            "zerolinecolor": "white"
           }
          },
          "shapedefaults": {
           "line": {
            "color": "#2a3f5f"
           }
          },
          "ternary": {
           "aaxis": {
            "gridcolor": "white",
            "linecolor": "white",
            "ticks": ""
           },
           "baxis": {
            "gridcolor": "white",
            "linecolor": "white",
            "ticks": ""
           },
           "bgcolor": "#E5ECF6",
           "caxis": {
            "gridcolor": "white",
            "linecolor": "white",
            "ticks": ""
           }
          },
          "title": {
           "x": 0.05
          },
          "xaxis": {
           "automargin": true,
           "gridcolor": "white",
           "linecolor": "white",
           "ticks": "",
           "title": {
            "standoff": 15
           },
           "zerolinecolor": "white",
           "zerolinewidth": 2
          },
          "yaxis": {
           "automargin": true,
           "gridcolor": "white",
           "linecolor": "white",
           "ticks": "",
           "title": {
            "standoff": 15
           },
           "zerolinecolor": "white",
           "zerolinewidth": 2
          }
         }
        },
        "title": {
         "text": "Ladder score"
        },
        "updatemenus": [
         {
          "buttons": [
           {
            "args": [
             "geo.projection.type",
             "natural earth"
            ],
            "label": "natural earth",
            "method": "relayout"
           },
           {
            "args": [
             "geo.projection.type",
             "equirectangular"
            ],
            "label": "equirectangular",
            "method": "relayout"
           },
           {
            "args": [
             "geo.projection.type",
             "mercator"
            ],
            "label": "mercator",
            "method": "relayout"
           },
           {
            "args": [
             "geo.projection.type",
             "orthographic"
            ],
            "label": "orthographic",
            "method": "relayout"
           },
           {
            "args": [
             "geo.projection.type",
             "robinson"
            ],
            "label": "robinson",
            "method": "relayout"
           }
          ],
          "x": 0.1,
          "y": 0.8,
          "yanchor": "top"
         }
        ]
       }
      },
      "text/html": [
       "<div>                            <div id=\"53fe8ce4-fe4e-4e70-95ec-050ff73fca4e\" class=\"plotly-graph-div\" style=\"height:525px; width:100%;\"></div>            <script type=\"text/javascript\">                require([\"plotly\"], function(Plotly) {                    window.PLOTLYENV=window.PLOTLYENV || {};                                    if (document.getElementById(\"53fe8ce4-fe4e-4e70-95ec-050ff73fca4e\")) {                    Plotly.newPlot(                        \"53fe8ce4-fe4e-4e70-95ec-050ff73fca4e\",                        [{\"colorscale\":[[0.0,\"#440154\"],[0.1111111111111111,\"#482878\"],[0.2222222222222222,\"#3e4989\"],[0.3333333333333333,\"#31688e\"],[0.4444444444444444,\"#26828e\"],[0.5555555555555556,\"#1f9e89\"],[0.6666666666666666,\"#35b779\"],[0.7777777777777778,\"#6ece58\"],[0.8888888888888888,\"#b5de2b\"],[1.0,\"#fde725\"]],\"locationmode\":\"country names\",\"locations\":[\"Finland\",\"Denmark\",\"Switzerland\",\"Iceland\",\"Netherlands\",\"Norway\",\"Sweden\",\"Luxembourg\",\"New Zealand\",\"Austria\",\"Australia\",\"Israel\",\"Germany\",\"Canada\",\"Ireland\",\"Costa Rica\",\"United Kingdom\",\"Czech Republic\",\"United States\",\"Belgium\",\"France\",\"Bahrain\",\"Malta\",\"Taiwan Province of China\",\"United Arab Emirates\",\"Saudi Arabia\",\"Spain\",\"Italy\",\"Slovenia\",\"Guatemala\",\"Uruguay\",\"Singapore\",\"Kosovo\",\"Slovakia\",\"Brazil\",\"Mexico\",\"Jamaica\",\"Lithuania\",\"Cyprus\",\"Estonia\",\"Panama\",\"Uzbekistan\",\"Chile\",\"Poland\",\"Kazakhstan\",\"Romania\",\"Kuwait\",\"Serbia\",\"El Salvador\",\"Mauritius\",\"Latvia\",\"Colombia\",\"Hungary\",\"Thailand\",\"Nicaragua\",\"Japan\",\"Argentina\",\"Portugal\",\"Honduras\",\"Croatia\",\"Philippines\",\"South Korea\",\"Peru\",\"Bosnia and Herzegovina\",\"Moldova\",\"Ecuador\",\"Kyrgyzstan\",\"Greece\",\"Bolivia\",\"Mongolia\",\"Paraguay\",\"Montenegro\",\"Dominican Republic\",\"North Cyprus\",\"Belarus\",\"Russia\",\"Hong Kong S.A.R. of China\",\"Tajikistan\",\"Vietnam\",\"Libya\",\"Malaysia\",\"Indonesia\",\"Congo (Brazzaville)\",\"China\",\"Ivory Coast\",\"Armenia\",\"Nepal\",\"Bulgaria\",\"Maldives\",\"Azerbaijan\",\"Cameroon\",\"Senegal\",\"Albania\",\"North Macedonia\",\"Ghana\",\"Niger\",\"Turkmenistan\",\"Gambia\",\"Benin\",\"Laos\",\"Bangladesh\",\"Guinea\",\"South Africa\",\"Turkey\",\"Pakistan\",\"Morocco\",\"Venezuela\",\"Georgia\",\"Algeria\",\"Ukraine\",\"Iraq\",\"Gabon\",\"Burkina Faso\",\"Cambodia\",\"Mozambique\",\"Nigeria\",\"Mali\",\"Iran\",\"Uganda\",\"Liberia\",\"Kenya\",\"Tunisia\",\"Lebanon\",\"Namibia\",\"Palestinian Territories\",\"Myanmar\",\"Jordan\",\"Chad\",\"Sri Lanka\",\"Swaziland\",\"Comoros\",\"Egypt\",\"Ethiopia\",\"Mauritania\",\"Madagascar\",\"Togo\",\"Zambia\",\"Sierra Leone\",\"India\",\"Burundi\",\"Yemen\",\"Tanzania\",\"Haiti\",\"Malawi\",\"Lesotho\",\"Botswana\",\"Rwanda\",\"Zimbabwe\",\"Afghanistan\"],\"text\":[\"Finland\",\"Denmark\",\"Switzerland\",\"Iceland\",\"Netherlands\",\"Norway\",\"Sweden\",\"Luxembourg\",\"New Zealand\",\"Austria\",\"Australia\",\"Israel\",\"Germany\",\"Canada\",\"Ireland\",\"Costa Rica\",\"United Kingdom\",\"Czech Republic\",\"United States\",\"Belgium\",\"France\",\"Bahrain\",\"Malta\",\"Taiwan Province of China\",\"United Arab Emirates\",\"Saudi Arabia\",\"Spain\",\"Italy\",\"Slovenia\",\"Guatemala\",\"Uruguay\",\"Singapore\",\"Kosovo\",\"Slovakia\",\"Brazil\",\"Mexico\",\"Jamaica\",\"Lithuania\",\"Cyprus\",\"Estonia\",\"Panama\",\"Uzbekistan\",\"Chile\",\"Poland\",\"Kazakhstan\",\"Romania\",\"Kuwait\",\"Serbia\",\"El Salvador\",\"Mauritius\",\"Latvia\",\"Colombia\",\"Hungary\",\"Thailand\",\"Nicaragua\",\"Japan\",\"Argentina\",\"Portugal\",\"Honduras\",\"Croatia\",\"Philippines\",\"South Korea\",\"Peru\",\"Bosnia and Herzegovina\",\"Moldova\",\"Ecuador\",\"Kyrgyzstan\",\"Greece\",\"Bolivia\",\"Mongolia\",\"Paraguay\",\"Montenegro\",\"Dominican Republic\",\"North Cyprus\",\"Belarus\",\"Russia\",\"Hong Kong S.A.R. of China\",\"Tajikistan\",\"Vietnam\",\"Libya\",\"Malaysia\",\"Indonesia\",\"Congo (Brazzaville)\",\"China\",\"Ivory Coast\",\"Armenia\",\"Nepal\",\"Bulgaria\",\"Maldives\",\"Azerbaijan\",\"Cameroon\",\"Senegal\",\"Albania\",\"North Macedonia\",\"Ghana\",\"Niger\",\"Turkmenistan\",\"Gambia\",\"Benin\",\"Laos\",\"Bangladesh\",\"Guinea\",\"South Africa\",\"Turkey\",\"Pakistan\",\"Morocco\",\"Venezuela\",\"Georgia\",\"Algeria\",\"Ukraine\",\"Iraq\",\"Gabon\",\"Burkina Faso\",\"Cambodia\",\"Mozambique\",\"Nigeria\",\"Mali\",\"Iran\",\"Uganda\",\"Liberia\",\"Kenya\",\"Tunisia\",\"Lebanon\",\"Namibia\",\"Palestinian Territories\",\"Myanmar\",\"Jordan\",\"Chad\",\"Sri Lanka\",\"Swaziland\",\"Comoros\",\"Egypt\",\"Ethiopia\",\"Mauritania\",\"Madagascar\",\"Togo\",\"Zambia\",\"Sierra Leone\",\"India\",\"Burundi\",\"Yemen\",\"Tanzania\",\"Haiti\",\"Malawi\",\"Lesotho\",\"Botswana\",\"Rwanda\",\"Zimbabwe\",\"Afghanistan\"],\"type\":\"choropleth\",\"z\":[7.8420000000000005,7.62,7.571000000000001,7.553999999999999,7.4639999999999995,7.392,7.3629999999999995,7.324,7.277,7.268,7.183,7.157,7.155,7.103,7.085,7.069,7.064,6.965,6.9510000000000005,6.834,6.69,6.647,6.602,6.584,6.561,6.494,6.4910000000000005,6.483,6.461,6.435,6.431,6.377000000000001,6.372000000000001,6.331,6.33,6.317,6.309,6.255,6.223,6.189,6.18,6.178999999999999,6.172000000000001,6.166,6.152,6.14,6.106,6.077999999999999,6.061,6.0489999999999995,6.032,6.0120000000000005,5.992000000000001,5.985,5.972,5.94,5.928999999999999,5.928999999999999,5.919,5.882000000000001,5.88,5.845,5.84,5.813,5.766,5.763999999999999,5.744,5.723,5.716,5.6770000000000005,5.653,5.581,5.545,5.5360000000000005,5.534,5.477,5.477,5.466,5.4110000000000005,5.41,5.3839999999999995,5.345,5.3420000000000005,5.3389999999999995,5.306,5.2829999999999995,5.269,5.266,5.1979999999999995,5.171,5.142,5.132000000000001,5.117,5.101,5.088,5.074,5.066,5.051,5.045,5.03,5.025,4.984,4.956,4.948,4.934,4.918,4.8919999999999995,4.891,4.887,4.875,4.854,4.852,4.834,4.83,4.794,4.7589999999999995,4.723,4.721,4.636,4.625,4.607,4.596,4.584,4.574,4.5169999999999995,4.426,4.395,4.355,4.325,4.308,4.289,4.283,4.275,4.227,4.208,4.107,4.073,3.8489999999999998,3.819,3.775,3.658,3.623,3.615,3.6,3.512,3.467,3.415,3.145,2.523]}],                        {\"annotations\":[{\"showarrow\":false,\"text\":\"Projection\",\"x\":0.1,\"xanchor\":\"right\",\"xref\":\"paper\",\"y\":0.8,\"yanchor\":\"bottom\"}],\"geo\":{\"projection\":{\"type\":\"hammer\"},\"showcoastlines\":true,\"showframe\":true,\"showlakes\":true,\"showocean\":true},\"template\":{\"data\":{\"bar\":[{\"error_x\":{\"color\":\"#2a3f5f\"},\"error_y\":{\"color\":\"#2a3f5f\"},\"marker\":{\"line\":{\"color\":\"#E5ECF6\",\"width\":0.5},\"pattern\":{\"fillmode\":\"overlay\",\"size\":10,\"solidity\":0.2}},\"type\":\"bar\"}],\"barpolar\":[{\"marker\":{\"line\":{\"color\":\"#E5ECF6\",\"width\":0.5},\"pattern\":{\"fillmode\":\"overlay\",\"size\":10,\"solidity\":0.2}},\"type\":\"barpolar\"}],\"carpet\":[{\"aaxis\":{\"endlinecolor\":\"#2a3f5f\",\"gridcolor\":\"white\",\"linecolor\":\"white\",\"minorgridcolor\":\"white\",\"startlinecolor\":\"#2a3f5f\"},\"baxis\":{\"endlinecolor\":\"#2a3f5f\",\"gridcolor\":\"white\",\"linecolor\":\"white\",\"minorgridcolor\":\"white\",\"startlinecolor\":\"#2a3f5f\"},\"type\":\"carpet\"}],\"choropleth\":[{\"colorbar\":{\"outlinewidth\":0,\"ticks\":\"\"},\"type\":\"choropleth\"}],\"contour\":[{\"colorbar\":{\"outlinewidth\":0,\"ticks\":\"\"},\"colorscale\":[[0.0,\"#0d0887\"],[0.1111111111111111,\"#46039f\"],[0.2222222222222222,\"#7201a8\"],[0.3333333333333333,\"#9c179e\"],[0.4444444444444444,\"#bd3786\"],[0.5555555555555556,\"#d8576b\"],[0.6666666666666666,\"#ed7953\"],[0.7777777777777778,\"#fb9f3a\"],[0.8888888888888888,\"#fdca26\"],[1.0,\"#f0f921\"]],\"type\":\"contour\"}],\"contourcarpet\":[{\"colorbar\":{\"outlinewidth\":0,\"ticks\":\"\"},\"type\":\"contourcarpet\"}],\"heatmap\":[{\"colorbar\":{\"outlinewidth\":0,\"ticks\":\"\"},\"colorscale\":[[0.0,\"#0d0887\"],[0.1111111111111111,\"#46039f\"],[0.2222222222222222,\"#7201a8\"],[0.3333333333333333,\"#9c179e\"],[0.4444444444444444,\"#bd3786\"],[0.5555555555555556,\"#d8576b\"],[0.6666666666666666,\"#ed7953\"],[0.7777777777777778,\"#fb9f3a\"],[0.8888888888888888,\"#fdca26\"],[1.0,\"#f0f921\"]],\"type\":\"heatmap\"}],\"heatmapgl\":[{\"colorbar\":{\"outlinewidth\":0,\"ticks\":\"\"},\"colorscale\":[[0.0,\"#0d0887\"],[0.1111111111111111,\"#46039f\"],[0.2222222222222222,\"#7201a8\"],[0.3333333333333333,\"#9c179e\"],[0.4444444444444444,\"#bd3786\"],[0.5555555555555556,\"#d8576b\"],[0.6666666666666666,\"#ed7953\"],[0.7777777777777778,\"#fb9f3a\"],[0.8888888888888888,\"#fdca26\"],[1.0,\"#f0f921\"]],\"type\":\"heatmapgl\"}],\"histogram\":[{\"marker\":{\"pattern\":{\"fillmode\":\"overlay\",\"size\":10,\"solidity\":0.2}},\"type\":\"histogram\"}],\"histogram2d\":[{\"colorbar\":{\"outlinewidth\":0,\"ticks\":\"\"},\"colorscale\":[[0.0,\"#0d0887\"],[0.1111111111111111,\"#46039f\"],[0.2222222222222222,\"#7201a8\"],[0.3333333333333333,\"#9c179e\"],[0.4444444444444444,\"#bd3786\"],[0.5555555555555556,\"#d8576b\"],[0.6666666666666666,\"#ed7953\"],[0.7777777777777778,\"#fb9f3a\"],[0.8888888888888888,\"#fdca26\"],[1.0,\"#f0f921\"]],\"type\":\"histogram2d\"}],\"histogram2dcontour\":[{\"colorbar\":{\"outlinewidth\":0,\"ticks\":\"\"},\"colorscale\":[[0.0,\"#0d0887\"],[0.1111111111111111,\"#46039f\"],[0.2222222222222222,\"#7201a8\"],[0.3333333333333333,\"#9c179e\"],[0.4444444444444444,\"#bd3786\"],[0.5555555555555556,\"#d8576b\"],[0.6666666666666666,\"#ed7953\"],[0.7777777777777778,\"#fb9f3a\"],[0.8888888888888888,\"#fdca26\"],[1.0,\"#f0f921\"]],\"type\":\"histogram2dcontour\"}],\"mesh3d\":[{\"colorbar\":{\"outlinewidth\":0,\"ticks\":\"\"},\"type\":\"mesh3d\"}],\"parcoords\":[{\"line\":{\"colorbar\":{\"outlinewidth\":0,\"ticks\":\"\"}},\"type\":\"parcoords\"}],\"pie\":[{\"automargin\":true,\"type\":\"pie\"}],\"scatter\":[{\"marker\":{\"colorbar\":{\"outlinewidth\":0,\"ticks\":\"\"}},\"type\":\"scatter\"}],\"scatter3d\":[{\"line\":{\"colorbar\":{\"outlinewidth\":0,\"ticks\":\"\"}},\"marker\":{\"colorbar\":{\"outlinewidth\":0,\"ticks\":\"\"}},\"type\":\"scatter3d\"}],\"scattercarpet\":[{\"marker\":{\"colorbar\":{\"outlinewidth\":0,\"ticks\":\"\"}},\"type\":\"scattercarpet\"}],\"scattergeo\":[{\"marker\":{\"colorbar\":{\"outlinewidth\":0,\"ticks\":\"\"}},\"type\":\"scattergeo\"}],\"scattergl\":[{\"marker\":{\"colorbar\":{\"outlinewidth\":0,\"ticks\":\"\"}},\"type\":\"scattergl\"}],\"scattermapbox\":[{\"marker\":{\"colorbar\":{\"outlinewidth\":0,\"ticks\":\"\"}},\"type\":\"scattermapbox\"}],\"scatterpolar\":[{\"marker\":{\"colorbar\":{\"outlinewidth\":0,\"ticks\":\"\"}},\"type\":\"scatterpolar\"}],\"scatterpolargl\":[{\"marker\":{\"colorbar\":{\"outlinewidth\":0,\"ticks\":\"\"}},\"type\":\"scatterpolargl\"}],\"scatterternary\":[{\"marker\":{\"colorbar\":{\"outlinewidth\":0,\"ticks\":\"\"}},\"type\":\"scatterternary\"}],\"surface\":[{\"colorbar\":{\"outlinewidth\":0,\"ticks\":\"\"},\"colorscale\":[[0.0,\"#0d0887\"],[0.1111111111111111,\"#46039f\"],[0.2222222222222222,\"#7201a8\"],[0.3333333333333333,\"#9c179e\"],[0.4444444444444444,\"#bd3786\"],[0.5555555555555556,\"#d8576b\"],[0.6666666666666666,\"#ed7953\"],[0.7777777777777778,\"#fb9f3a\"],[0.8888888888888888,\"#fdca26\"],[1.0,\"#f0f921\"]],\"type\":\"surface\"}],\"table\":[{\"cells\":{\"fill\":{\"color\":\"#EBF0F8\"},\"line\":{\"color\":\"white\"}},\"header\":{\"fill\":{\"color\":\"#C8D4E3\"},\"line\":{\"color\":\"white\"}},\"type\":\"table\"}]},\"layout\":{\"annotationdefaults\":{\"arrowcolor\":\"#2a3f5f\",\"arrowhead\":0,\"arrowwidth\":1},\"autotypenumbers\":\"strict\",\"coloraxis\":{\"colorbar\":{\"outlinewidth\":0,\"ticks\":\"\"}},\"colorscale\":{\"diverging\":[[0,\"#8e0152\"],[0.1,\"#c51b7d\"],[0.2,\"#de77ae\"],[0.3,\"#f1b6da\"],[0.4,\"#fde0ef\"],[0.5,\"#f7f7f7\"],[0.6,\"#e6f5d0\"],[0.7,\"#b8e186\"],[0.8,\"#7fbc41\"],[0.9,\"#4d9221\"],[1,\"#276419\"]],\"sequential\":[[0.0,\"#0d0887\"],[0.1111111111111111,\"#46039f\"],[0.2222222222222222,\"#7201a8\"],[0.3333333333333333,\"#9c179e\"],[0.4444444444444444,\"#bd3786\"],[0.5555555555555556,\"#d8576b\"],[0.6666666666666666,\"#ed7953\"],[0.7777777777777778,\"#fb9f3a\"],[0.8888888888888888,\"#fdca26\"],[1.0,\"#f0f921\"]],\"sequentialminus\":[[0.0,\"#0d0887\"],[0.1111111111111111,\"#46039f\"],[0.2222222222222222,\"#7201a8\"],[0.3333333333333333,\"#9c179e\"],[0.4444444444444444,\"#bd3786\"],[0.5555555555555556,\"#d8576b\"],[0.6666666666666666,\"#ed7953\"],[0.7777777777777778,\"#fb9f3a\"],[0.8888888888888888,\"#fdca26\"],[1.0,\"#f0f921\"]]},\"colorway\":[\"#636efa\",\"#EF553B\",\"#00cc96\",\"#ab63fa\",\"#FFA15A\",\"#19d3f3\",\"#FF6692\",\"#B6E880\",\"#FF97FF\",\"#FECB52\"],\"font\":{\"color\":\"#2a3f5f\"},\"geo\":{\"bgcolor\":\"white\",\"lakecolor\":\"white\",\"landcolor\":\"#E5ECF6\",\"showlakes\":true,\"showland\":true,\"subunitcolor\":\"white\"},\"hoverlabel\":{\"align\":\"left\"},\"hovermode\":\"closest\",\"mapbox\":{\"style\":\"light\"},\"paper_bgcolor\":\"white\",\"plot_bgcolor\":\"#E5ECF6\",\"polar\":{\"angularaxis\":{\"gridcolor\":\"white\",\"linecolor\":\"white\",\"ticks\":\"\"},\"bgcolor\":\"#E5ECF6\",\"radialaxis\":{\"gridcolor\":\"white\",\"linecolor\":\"white\",\"ticks\":\"\"}},\"scene\":{\"xaxis\":{\"backgroundcolor\":\"#E5ECF6\",\"gridcolor\":\"white\",\"gridwidth\":2,\"linecolor\":\"white\",\"showbackground\":true,\"ticks\":\"\",\"zerolinecolor\":\"white\"},\"yaxis\":{\"backgroundcolor\":\"#E5ECF6\",\"gridcolor\":\"white\",\"gridwidth\":2,\"linecolor\":\"white\",\"showbackground\":true,\"ticks\":\"\",\"zerolinecolor\":\"white\"},\"zaxis\":{\"backgroundcolor\":\"#E5ECF6\",\"gridcolor\":\"white\",\"gridwidth\":2,\"linecolor\":\"white\",\"showbackground\":true,\"ticks\":\"\",\"zerolinecolor\":\"white\"}},\"shapedefaults\":{\"line\":{\"color\":\"#2a3f5f\"}},\"ternary\":{\"aaxis\":{\"gridcolor\":\"white\",\"linecolor\":\"white\",\"ticks\":\"\"},\"baxis\":{\"gridcolor\":\"white\",\"linecolor\":\"white\",\"ticks\":\"\"},\"bgcolor\":\"#E5ECF6\",\"caxis\":{\"gridcolor\":\"white\",\"linecolor\":\"white\",\"ticks\":\"\"}},\"title\":{\"x\":0.05},\"xaxis\":{\"automargin\":true,\"gridcolor\":\"white\",\"linecolor\":\"white\",\"ticks\":\"\",\"title\":{\"standoff\":15},\"zerolinecolor\":\"white\",\"zerolinewidth\":2},\"yaxis\":{\"automargin\":true,\"gridcolor\":\"white\",\"linecolor\":\"white\",\"ticks\":\"\",\"title\":{\"standoff\":15},\"zerolinecolor\":\"white\",\"zerolinewidth\":2}}},\"title\":{\"text\":\"Ladder score\"},\"updatemenus\":[{\"buttons\":[{\"args\":[\"geo.projection.type\",\"natural earth\"],\"label\":\"natural earth\",\"method\":\"relayout\"},{\"args\":[\"geo.projection.type\",\"equirectangular\"],\"label\":\"equirectangular\",\"method\":\"relayout\"},{\"args\":[\"geo.projection.type\",\"mercator\"],\"label\":\"mercator\",\"method\":\"relayout\"},{\"args\":[\"geo.projection.type\",\"orthographic\"],\"label\":\"orthographic\",\"method\":\"relayout\"},{\"args\":[\"geo.projection.type\",\"robinson\"],\"label\":\"robinson\",\"method\":\"relayout\"}],\"x\":0.1,\"y\":0.8,\"yanchor\":\"top\"}]},                        {\"responsive\": true}                    ).then(function(){\n",
       "                            \n",
       "var gd = document.getElementById('53fe8ce4-fe4e-4e70-95ec-050ff73fca4e');\n",
       "var x = new MutationObserver(function (mutations, observer) {{\n",
       "        var display = window.getComputedStyle(gd).display;\n",
       "        if (!display || display === 'none') {{\n",
       "            console.log([gd, 'removed!']);\n",
       "            Plotly.purge(gd);\n",
       "            observer.disconnect();\n",
       "        }}\n",
       "}});\n",
       "\n",
       "// Listen for the removal of the full notebook cells\n",
       "var notebookContainer = gd.closest('#notebook-container');\n",
       "if (notebookContainer) {{\n",
       "    x.observe(notebookContainer, {childList: true});\n",
       "}}\n",
       "\n",
       "// Listen for the clearing of the current output cell\n",
       "var outputEl = gd.closest('.output');\n",
       "if (outputEl) {{\n",
       "    x.observe(outputEl, {childList: true});\n",
       "}}\n",
       "\n",
       "                        })                };                });            </script>        </div>"
      ]
     },
     "metadata": {},
     "output_type": "display_data"
    }
   ],
   "source": [
    "trace1 = [go.Choropleth(\n",
    "               colorscale = 'Viridis',\n",
    "               locationmode = 'country names',\n",
    "               locations = data['Country name'],\n",
    "               text = data['Country name'], \n",
    "               z = data['Ladder score'],\n",
    "               )]\n",
    "\n",
    "layout = dict(title = 'Ladder score',\n",
    "                  geo = dict(\n",
    "                      showframe = True,\n",
    "                      showocean = True,\n",
    "                      showlakes = True,\n",
    "                      showcoastlines = True,\n",
    "                      projection = dict(\n",
    "                          type = 'hammer'\n",
    "        )))\n",
    "\n",
    "\n",
    "projections = [ \"natural earth\", \"equirectangular\", \"mercator\", \"orthographic\", \"robinson\"]\n",
    "\n",
    "buttons = [dict(args = ['geo.projection.type', y],\n",
    "           label = y, method = 'relayout') for y in projections]\n",
    "\n",
    "annot = list([ dict( x=0.1, y=0.8, text='Projection', yanchor='bottom', \n",
    "                    xref='paper', xanchor='right', showarrow=False )])\n",
    "\n",
    "layout[ 'updatemenus' ] = list([ dict( x=0.1, y=0.8, buttons=buttons, yanchor='top' )])\n",
    "layout[ 'annotations' ] = annot\n",
    "\n",
    "\n",
    "fig = go.Figure(data = trace1, layout = layout)\n",
    "py.iplot(fig)"
   ]
  },
  {
   "cell_type": "code",
   "execution_count": 10,
   "metadata": {},
   "outputs": [
    {
     "data": {
      "text/html": [
       "<div>\n",
       "<style scoped>\n",
       "    .dataframe tbody tr th:only-of-type {\n",
       "        vertical-align: middle;\n",
       "    }\n",
       "\n",
       "    .dataframe tbody tr th {\n",
       "        vertical-align: top;\n",
       "    }\n",
       "\n",
       "    .dataframe thead th {\n",
       "        text-align: right;\n",
       "    }\n",
       "</style>\n",
       "<table border=\"1\" class=\"dataframe\">\n",
       "  <thead>\n",
       "    <tr style=\"text-align: right;\">\n",
       "      <th></th>\n",
       "      <th>Country name</th>\n",
       "      <th>Ladder score</th>\n",
       "    </tr>\n",
       "  </thead>\n",
       "  <tbody>\n",
       "    <tr>\n",
       "      <th>0</th>\n",
       "      <td>Finland</td>\n",
       "      <td>7.842</td>\n",
       "    </tr>\n",
       "    <tr>\n",
       "      <th>1</th>\n",
       "      <td>Denmark</td>\n",
       "      <td>7.620</td>\n",
       "    </tr>\n",
       "    <tr>\n",
       "      <th>2</th>\n",
       "      <td>Switzerland</td>\n",
       "      <td>7.571</td>\n",
       "    </tr>\n",
       "    <tr>\n",
       "      <th>3</th>\n",
       "      <td>Iceland</td>\n",
       "      <td>7.554</td>\n",
       "    </tr>\n",
       "    <tr>\n",
       "      <th>4</th>\n",
       "      <td>Netherlands</td>\n",
       "      <td>7.464</td>\n",
       "    </tr>\n",
       "    <tr>\n",
       "      <th>5</th>\n",
       "      <td>Norway</td>\n",
       "      <td>7.392</td>\n",
       "    </tr>\n",
       "    <tr>\n",
       "      <th>6</th>\n",
       "      <td>Sweden</td>\n",
       "      <td>7.363</td>\n",
       "    </tr>\n",
       "    <tr>\n",
       "      <th>7</th>\n",
       "      <td>Luxembourg</td>\n",
       "      <td>7.324</td>\n",
       "    </tr>\n",
       "    <tr>\n",
       "      <th>8</th>\n",
       "      <td>New Zealand</td>\n",
       "      <td>7.277</td>\n",
       "    </tr>\n",
       "    <tr>\n",
       "      <th>9</th>\n",
       "      <td>Austria</td>\n",
       "      <td>7.268</td>\n",
       "    </tr>\n",
       "  </tbody>\n",
       "</table>\n",
       "</div>"
      ],
      "text/plain": [
       "  Country name  Ladder score\n",
       "0      Finland         7.842\n",
       "1      Denmark         7.620\n",
       "2  Switzerland         7.571\n",
       "3      Iceland         7.554\n",
       "4  Netherlands         7.464\n",
       "5       Norway         7.392\n",
       "6       Sweden         7.363\n",
       "7   Luxembourg         7.324\n",
       "8  New Zealand         7.277\n",
       "9      Austria         7.268"
      ]
     },
     "execution_count": 10,
     "metadata": {},
     "output_type": "execute_result"
    }
   ],
   "source": [
    "data[['Country name','Ladder score']].head(10)"
   ]
  },
  {
   "cell_type": "code",
   "execution_count": null,
   "metadata": {},
   "outputs": [],
   "source": []
  }
 ],
 "metadata": {
  "kernelspec": {
   "display_name": "Python 3",
   "language": "python",
   "name": "python3"
  },
  "language_info": {
   "codemirror_mode": {
    "name": "ipython",
    "version": 3
   },
   "file_extension": ".py",
   "mimetype": "text/x-python",
   "name": "python",
   "nbconvert_exporter": "python",
   "pygments_lexer": "ipython3",
   "version": "3.8.3"
  }
 },
 "nbformat": 4,
 "nbformat_minor": 4
}
