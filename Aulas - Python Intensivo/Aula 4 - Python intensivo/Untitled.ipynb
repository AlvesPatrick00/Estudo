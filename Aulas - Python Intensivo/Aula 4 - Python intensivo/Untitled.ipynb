{
 "cells": [
  {
   "cell_type": "code",
   "execution_count": 35,
   "metadata": {},
   "outputs": [
    {
     "ename": "AttributeError",
     "evalue": "'WebElement' object has no attribute 'get__attribute'",
     "output_type": "error",
     "traceback": [
      "\u001b[1;31m---------------------------------------------------------------------------\u001b[0m",
      "\u001b[1;31mAttributeError\u001b[0m                            Traceback (most recent call last)",
      "\u001b[1;32m<ipython-input-35-235fbf4a020c>\u001b[0m in \u001b[0;36m<module>\u001b[1;34m\u001b[0m\n\u001b[0;32m     24\u001b[0m         '/html/body/app-root/app-root/main/dynamic-comp/div/bcb-pagina-tipo0/div/bcb-pagina-tipo4/div[2]/div/dynamic-comp/div/div/bcb-detalhesconversor/div/div[1]/form/div[2]/div[3]/div/button').send_keys(Keys.ENTER)\n\u001b[0;32m     25\u001b[0m \u001b[1;33m\u001b[0m\u001b[0m\n\u001b[1;32m---> 26\u001b[1;33m cotação_dólar = driver.find_element_by_xpath(\n\u001b[0m\u001b[0;32m     27\u001b[0m     '/html/body/app-root/app-root/main/dynamic-comp/div/bcb-pagina-tipo0/div/bcb-pagina-tipo4/div[2]/div/dynamic-comp/div/div/bcb-detalhesconversor/div/div[2]/div/div[1]/div[2]/div').get__attribute(\"/html/body/app-root/app-root/main/dynamic-comp/div/bcb-pagina-tipo0/div/bcb-pagina-tipo4/div[2]/div/dynamic-comp/div/div/bcb-detalhesconversor/div/div[2]/div/div[1]/div[2]/div/text()[2]\")\n",
      "\u001b[1;31mAttributeError\u001b[0m: 'WebElement' object has no attribute 'get__attribute'"
     ]
    }
   ],
   "source": [
    "from selenium import webdriver\n",
    "from selenium.webdriver.common.keys import Keys\n",
    "from selenium.webdriver.common.by import By\n",
    "from selenium.webdriver.support.ui import WebDriverWait\n",
    "from selenium.webdriver.support import expected_conditions as EC\n",
    "\n",
    "from selenium.webdriver.edge.options import Options\n",
    "from msedge.selenium_tools import Edge, EdgeOptions\n",
    "\n",
    "\n",
    "options = EdgeOptions()\n",
    "options.use_chromium = True\n",
    "options.headless = True\n",
    "driver = Edge(options = options)\n",
    "\n",
    "driver = Edge()\n",
    "\n",
    "\n",
    "\n",
    "driver.get(\"https://www.bcb.gov.br/conversao\")\n",
    "driver.implicitly_wait(10)\n",
    "    \n",
    "driver.find_element_by_xpath(\n",
    "        '/html/body/app-root/app-root/main/dynamic-comp/div/bcb-pagina-tipo0/div/bcb-pagina-tipo4/div[2]/div/dynamic-comp/div/div/bcb-detalhesconversor/div/div[1]/form/div[2]/div[3]/div/button').send_keys(Keys.ENTER)\n",
    "\n",
    "cotação_dólar = driver.find_element_by_xpath(\n",
    "    '/html/body/app-root/app-root/main/dynamic-comp/div/bcb-pagina-tipo0/div/bcb-pagina-tipo4/div[2]/div/dynamic-comp/div/div/bcb-detalhesconversor/div/div[2]/div/div[1]/div[2]/div')"
   ]
  },
  {
   "cell_type": "code",
   "execution_count": null,
   "metadata": {},
   "outputs": [],
   "source": []
  }
 ],
 "metadata": {
  "kernelspec": {
   "display_name": "Python 3",
   "language": "python",
   "name": "python3"
  },
  "language_info": {
   "codemirror_mode": {
    "name": "ipython",
    "version": 3
   },
   "file_extension": ".py",
   "mimetype": "text/x-python",
   "name": "python",
   "nbconvert_exporter": "python",
   "pygments_lexer": "ipython3",
   "version": "3.8.3"
  }
 },
 "nbformat": 4,
 "nbformat_minor": 4
}
